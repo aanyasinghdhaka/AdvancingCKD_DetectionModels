{
  "nbformat": 4,
  "nbformat_minor": 0,
  "metadata": {
    "colab": {
      "provenance": [],
      "authorship_tag": "ABX9TyNtphpqR8nde7i29M9e+qd3",
      "include_colab_link": true
    },
    "kernelspec": {
      "name": "python3",
      "display_name": "Python 3"
    },
    "language_info": {
      "name": "python"
    }
  },
  "cells": [
    {
      "cell_type": "markdown",
      "metadata": {
        "id": "view-in-github",
        "colab_type": "text"
      },
      "source": [
        "<a href=\"https://colab.research.google.com/github/aanyasinghdhaka/AdvancingCKD_DetectionModels/blob/main/RANDOM_FOREST.ipynb\" target=\"_parent\"><img src=\"https://colab.research.google.com/assets/colab-badge.svg\" alt=\"Open In Colab\"/></a>"
      ]
    },
    {
      "cell_type": "code",
      "execution_count": null,
      "metadata": {
        "id": "BL5dj-_SHjGL"
      },
      "outputs": [],
      "source": [
        "import numpy as np\n",
        "import pandas as pd\n",
        "import matplotlib.pyplot as plt\n",
        "from dateutil import tz\n",
        "from sklearn.model_selection import cross_val_score\n",
        "from sklearn.ensemble import RandomForestClassifier\n",
        "from xgboost import XGBClassifier\n",
        "from sklearn.svm import SVC\n",
        "from sklearn.model_selection import GridSearchCV\n",
        "from sklearn.ensemble import RandomForestClassifier\n",
        "from xgboost import XGBClassifier\n",
        "from sklearn.svm import SVC\n",
        "from sklearn.metrics import classification_report\n",
        "from sklearn.model_selection import train_test_split\n",
        "from sklearn.ensemble import RandomForestClassifier\n",
        "from xgboost import XGBClassifier\n",
        "from sklearn.svm import SVC\n",
        "from sklearn.metrics import accuracy_score\n",
        "from sklearn.feature_selection import SelectKBest, f_classif\n",
        "from sklearn.metrics import classification_report, confusion_matrix, roc_curve, auc"
      ]
    },
    {
      "cell_type": "code",
      "source": [
        "!wget https://www.dropbox.com/scl/fi/e2y5m0h9qbr9sni6f2wdm/kidney_disease.csv?rlkey=ejadxsf7xnn5hzabo604a30k3&dl=0"
      ],
      "metadata": {
        "id": "yyJC9S6z8jA-",
        "colab": {
          "base_uri": "https://localhost:8080/"
        },
        "outputId": "74726106-e388-4f23-cf40-2b1c2a32f19a"
      },
      "execution_count": null,
      "outputs": [
        {
          "output_type": "stream",
          "name": "stdout",
          "text": [
            "--2024-07-20 00:10:06--  https://www.dropbox.com/scl/fi/e2y5m0h9qbr9sni6f2wdm/kidney_disease.csv?rlkey=ejadxsf7xnn5hzabo604a30k3\n",
            "Resolving www.dropbox.com (www.dropbox.com)... 162.125.5.18, 2620:100:601d:18::a27d:512\n",
            "Connecting to www.dropbox.com (www.dropbox.com)|162.125.5.18|:443... connected.\n",
            "HTTP request sent, awaiting response... 302 Found\n",
            "Location: https://uc47215f93e747d16c084e69474b.dl.dropboxusercontent.com/cd/0/inline/CXDSc9Zk6zz6LYebVJ02mPSwbZ4MDXI1wufnDKnl9j4_9YNmguY5ifFa6bVpMynB5ODHczqjdr8gos0XyOQZJVR5FMKndpQKtG_3URSQG0mhYyEnaPF7IanJ2bxCr7dQUysjb4xo5eU1YNrAZY5YDVhn/file# [following]\n",
            "--2024-07-20 00:10:07--  https://uc47215f93e747d16c084e69474b.dl.dropboxusercontent.com/cd/0/inline/CXDSc9Zk6zz6LYebVJ02mPSwbZ4MDXI1wufnDKnl9j4_9YNmguY5ifFa6bVpMynB5ODHczqjdr8gos0XyOQZJVR5FMKndpQKtG_3URSQG0mhYyEnaPF7IanJ2bxCr7dQUysjb4xo5eU1YNrAZY5YDVhn/file\n",
            "Resolving uc47215f93e747d16c084e69474b.dl.dropboxusercontent.com (uc47215f93e747d16c084e69474b.dl.dropboxusercontent.com)... 162.125.5.15, 2620:100:601d:15::a27d:50f\n",
            "Connecting to uc47215f93e747d16c084e69474b.dl.dropboxusercontent.com (uc47215f93e747d16c084e69474b.dl.dropboxusercontent.com)|162.125.5.15|:443... connected.\n",
            "HTTP request sent, awaiting response... 200 OK\n",
            "Length: 48551 (47K) [text/plain]\n",
            "Saving to: ‘kidney_disease.csv?rlkey=ejadxsf7xnn5hzabo604a30k3’\n",
            "\n",
            "kidney_disease.csv? 100%[===================>]  47.41K  --.-KB/s    in 0.03s   \n",
            "\n",
            "2024-07-20 00:10:07 (1.76 MB/s) - ‘kidney_disease.csv?rlkey=ejadxsf7xnn5hzabo604a30k3’ saved [48551/48551]\n",
            "\n"
          ]
        }
      ]
    },
    {
      "cell_type": "code",
      "source": [
        "# Read the CSV file\n",
        "df = pd.read_csv('kidney_disease.csv?rlkey=ejadxsf7xnn5hzabo604a30k3')\n",
        "\n",
        "# Display the DataFrame\n",
        "print(df)"
      ],
      "metadata": {
        "id": "oD4dKZWI9Crm",
        "colab": {
          "base_uri": "https://localhost:8080/"
        },
        "outputId": "08bb4c8b-0d8b-4eaa-844a-494e9302ce74"
      },
      "execution_count": null,
      "outputs": [
        {
          "output_type": "stream",
          "name": "stdout",
          "text": [
            "      id   age    bp     sg   al   su     rbc        pc         pcc  \\\n",
            "0      0  48.0  80.0  1.020  1.0  0.0     NaN    normal  notpresent   \n",
            "1      1   7.0  50.0  1.020  4.0  0.0     NaN    normal  notpresent   \n",
            "2      2  62.0  80.0  1.010  2.0  3.0  normal    normal  notpresent   \n",
            "3      3  48.0  70.0  1.005  4.0  0.0  normal  abnormal     present   \n",
            "4      4  51.0  80.0  1.010  2.0  0.0  normal    normal  notpresent   \n",
            "..   ...   ...   ...    ...  ...  ...     ...       ...         ...   \n",
            "395  395  55.0  80.0  1.020  0.0  0.0  normal    normal  notpresent   \n",
            "396  396  42.0  70.0  1.025  0.0  0.0  normal    normal  notpresent   \n",
            "397  397  12.0  80.0  1.020  0.0  0.0  normal    normal  notpresent   \n",
            "398  398  17.0  60.0  1.025  0.0  0.0  normal    normal  notpresent   \n",
            "399  399  58.0  80.0  1.025  0.0  0.0  normal    normal  notpresent   \n",
            "\n",
            "             ba  ...  pcv    wc   rc  htn   dm  cad appet   pe  ane  \\\n",
            "0    notpresent  ...   44  7800  5.2  yes  yes   no  good   no   no   \n",
            "1    notpresent  ...   38  6000  NaN   no   no   no  good   no   no   \n",
            "2    notpresent  ...   31  7500  NaN   no  yes   no  poor   no  yes   \n",
            "3    notpresent  ...   32  6700  3.9  yes   no   no  poor  yes  yes   \n",
            "4    notpresent  ...   35  7300  4.6   no   no   no  good   no   no   \n",
            "..          ...  ...  ...   ...  ...  ...  ...  ...   ...  ...  ...   \n",
            "395  notpresent  ...   47  6700  4.9   no   no   no  good   no   no   \n",
            "396  notpresent  ...   54  7800  6.2   no   no   no  good   no   no   \n",
            "397  notpresent  ...   49  6600  5.4   no   no   no  good   no   no   \n",
            "398  notpresent  ...   51  7200  5.9   no   no   no  good   no   no   \n",
            "399  notpresent  ...   53  6800  6.1   no   no   no  good   no   no   \n",
            "\n",
            "    classification  \n",
            "0              ckd  \n",
            "1              ckd  \n",
            "2              ckd  \n",
            "3              ckd  \n",
            "4              ckd  \n",
            "..             ...  \n",
            "395         notckd  \n",
            "396         notckd  \n",
            "397         notckd  \n",
            "398         notckd  \n",
            "399         notckd  \n",
            "\n",
            "[400 rows x 26 columns]\n"
          ]
        }
      ]
    },
    {
      "cell_type": "code",
      "source": [
        "import pandas as pd\n",
        "\n",
        "# Read the CSV file\n",
        "\n",
        "# Drop rows with any NaN values\n",
        "df.dropna(inplace=True)\n",
        "\n",
        "# Modify column names in the numeric_features list\n",
        "numeric_features = ['age', 'bp', 'sg', 'al', 'su', 'bgr', 'bu', 'sc', 'sod', 'pot', 'hemo', 'pcv', 'wc', 'rc']\n",
        "numeric_features = [col.replace(' ', '_') for col in numeric_features]\n",
        "\n",
        "# Convert numeric features to floats\n",
        "df[numeric_features] = df[numeric_features].astype(float)\n",
        "\n",
        "# Rename columns for better readability\n",
        "column_names = {\n",
        "    'age': 'Age',\n",
        "    'bp': 'Blood_Pressure',\n",
        "    'sg': 'Specific_Gravity',\n",
        "    'al': 'Albumin',\n",
        "    'su': 'Sugar',\n",
        "    'bgr': 'Blood_Glucose_Random',\n",
        "    'bu': 'Blood_Urea',\n",
        "    'sc': 'Serum_Creatinine',\n",
        "    'sod': 'Sodium',\n",
        "    'pot': 'Potassium',\n",
        "    'hemo': 'Hemoglobin',\n",
        "    'pcv': 'Packed_Cell_Volume',\n",
        "    'wc': 'White_Blood_Cell_Count',\n",
        "    'rc': 'Red_Blood_Cell_Count',\n",
        "    'classification': 'Classification'\n",
        "}\n",
        "\n",
        "df.rename(columns=column_names, inplace=True)\n",
        "\n",
        "# Set display options for better alignment\n",
        "pd.set_option('display.max_columns', None)  # Display all columns\n",
        "pd.set_option('display.width', 1000)  # Set display width\n",
        "\n",
        "# Display beautified dataset\n",
        "print(df)\n",
        "\n",
        "\n"
      ],
      "metadata": {
        "id": "BRLFO3oM-K7U",
        "colab": {
          "base_uri": "https://localhost:8080/"
        },
        "outputId": "afe35052-961b-4f5d-93c8-adb746983112"
      },
      "execution_count": null,
      "outputs": [
        {
          "output_type": "stream",
          "name": "stdout",
          "text": [
            "      id   Age  Blood_Pressure  Specific_Gravity  Albumin  Sugar       rbc        pc         pcc          ba  Blood_Glucose_Random  Blood_Urea  Serum_Creatinine  Sodium  Potassium  Hemoglobin  Packed_Cell_Volume  White_Blood_Cell_Count  Red_Blood_Cell_Count  htn   dm  cad appet   pe  ane Classification\n",
            "3      3  48.0            70.0             1.005      4.0    0.0    normal  abnormal     present  notpresent                 117.0        56.0               3.8   111.0        2.5        11.2                32.0                  6700.0                   3.9  yes   no   no  poor  yes  yes            ckd\n",
            "9      9  53.0            90.0             1.020      2.0    0.0  abnormal  abnormal     present  notpresent                  70.0       107.0               7.2   114.0        3.7         9.5                29.0                 12100.0                   3.7  yes  yes   no  poor   no  yes            ckd\n",
            "11    11  63.0            70.0             1.010      3.0    0.0  abnormal  abnormal     present  notpresent                 380.0        60.0               2.7   131.0        4.2        10.8                32.0                  4500.0                   3.8  yes  yes   no  poor  yes   no            ckd\n",
            "14    14  68.0            80.0             1.010      3.0    2.0    normal  abnormal     present     present                 157.0        90.0               4.1   130.0        6.4         5.6                16.0                 11000.0                   2.6  yes  yes  yes  poor  yes   no            ckd\n",
            "20    20  61.0            80.0             1.015      2.0    0.0  abnormal  abnormal  notpresent  notpresent                 173.0       148.0               3.9   135.0        5.2         7.7                24.0                  9200.0                   3.2  yes  yes  yes  poor  yes  yes            ckd\n",
            "..   ...   ...             ...               ...      ...    ...       ...       ...         ...         ...                   ...         ...               ...     ...        ...         ...                 ...                     ...                   ...  ...  ...  ...   ...  ...  ...            ...\n",
            "395  395  55.0            80.0             1.020      0.0    0.0    normal    normal  notpresent  notpresent                 140.0        49.0               0.5   150.0        4.9        15.7                47.0                  6700.0                   4.9   no   no   no  good   no   no         notckd\n",
            "396  396  42.0            70.0             1.025      0.0    0.0    normal    normal  notpresent  notpresent                  75.0        31.0               1.2   141.0        3.5        16.5                54.0                  7800.0                   6.2   no   no   no  good   no   no         notckd\n",
            "397  397  12.0            80.0             1.020      0.0    0.0    normal    normal  notpresent  notpresent                 100.0        26.0               0.6   137.0        4.4        15.8                49.0                  6600.0                   5.4   no   no   no  good   no   no         notckd\n",
            "398  398  17.0            60.0             1.025      0.0    0.0    normal    normal  notpresent  notpresent                 114.0        50.0               1.0   135.0        4.9        14.2                51.0                  7200.0                   5.9   no   no   no  good   no   no         notckd\n",
            "399  399  58.0            80.0             1.025      0.0    0.0    normal    normal  notpresent  notpresent                 131.0        18.0               1.1   141.0        3.5        15.8                53.0                  6800.0                   6.1   no   no   no  good   no   no         notckd\n",
            "\n",
            "[158 rows x 26 columns]\n"
          ]
        }
      ]
    },
    {
      "cell_type": "code",
      "source": [
        "\n",
        "\n",
        "# List of categorical feature column names\n",
        "categorical_features = ['rbc', 'pc', 'pcc', 'ba', 'htn', 'dm', 'cad', 'appet', 'pe', 'ane']\n",
        "\n",
        "# Perform one-hot encoding on categorical features\n",
        "df_encoded = pd.get_dummies(df, columns=categorical_features)\n",
        "\n",
        "# Feature selection using ANOVA F-value\n",
        "num_features_to_select = 10  # Adjust this as needed\n",
        "selector = SelectKBest(score_func=f_classif, k=num_features_to_select)\n",
        "X_new = selector.fit_transform(df_encoded.drop(columns=['Classification']), df_encoded['Classification'])\n",
        "selected_indices = selector.get_support(indices=True)\n",
        "selected_features = df_encoded.drop(columns=['Classification']).columns[selected_indices]\n",
        "\n",
        "# Split Dataset\n",
        "X = X_new  # Features with selected features\n",
        "y = df_encoded['Classification']  # Target\n",
        "\n",
        "# Split dataset into train and test sets (80:20 ratio)\n",
        "X_train, X_test, y_train, y_test = train_test_split(X, y, test_size=0.2, random_state=42)\n",
        "\n",
        "from sklearn.preprocessing import LabelEncoder\n",
        "\n",
        "# Encode target classes into numeric values\n",
        "label_encoder = LabelEncoder()\n",
        "y_train_encoded = label_encoder.fit_transform(y_train)\n",
        "y_test_encoded = label_encoder.transform(y_test)\n",
        "\n",
        "# Model Selection and Training\n",
        "model_rf = RandomForestClassifier()\n",
        "model_xgb = XGBClassifier()\n",
        "model_svm = SVC(probability=True)  # Set probability=True for SVC\n",
        "\n",
        "# Train the models on the training data\n",
        "model_rf.fit(X_train, y_train_encoded)\n",
        "model_xgb.fit(X_train, y_train_encoded)\n",
        "model_svm.fit(X_train, y_train_encoded)\n",
        "\n",
        "# Model Evaluation\n",
        "y_pred_rf = model_rf.predict(X_test)\n",
        "y_pred_xgb = model_xgb.predict(X_test)\n",
        "y_pred_svm = model_svm.predict(X_test)\n",
        "\n",
        "# Calculate probabilities for ROC\n",
        "y_prob_rf = model_rf.predict_proba(X_test)[:, 1]\n",
        "y_prob_xgb = model_xgb.predict_proba(X_test)[:, 1]\n",
        "y_prob_svm = model_svm.predict_proba(X_test)[:, 1]\n",
        "\n",
        "# Convert predictions back to original class labels\n",
        "y_pred_rf_original = label_encoder.inverse_transform(y_pred_rf)\n",
        "y_pred_xgb_original = label_encoder.inverse_transform(y_pred_xgb)\n",
        "y_pred_svm_original = label_encoder.inverse_transform(y_pred_svm)\n",
        "\n",
        "accuracy_rf = accuracy_score(y_test_encoded, y_pred_rf)\n",
        "accuracy_xgb = accuracy_score(y_test_encoded, y_pred_xgb)\n",
        "accuracy_svm = accuracy_score(y_test_encoded, y_pred_svm)\n",
        "\n",
        "# Display accuracy of each model\n",
        "print(\"Random Forest Accuracy:\", accuracy_rf)\n",
        "print(\"XGBoost Accuracy:\", accuracy_xgb)\n",
        "print(\"SVM Accuracy:\", accuracy_svm)\n",
        "\n",
        "\n",
        "\n"
      ],
      "metadata": {
        "id": "Ncu-MgDSlWbj",
        "colab": {
          "base_uri": "https://localhost:8080/"
        },
        "outputId": "d5c92c9e-a891-4ce7-ef0f-34e4964805eb"
      },
      "execution_count": null,
      "outputs": [
        {
          "output_type": "stream",
          "name": "stdout",
          "text": [
            "Random Forest Accuracy: 1.0\n",
            "XGBoost Accuracy: 1.0\n",
            "SVM Accuracy: 1.0\n"
          ]
        }
      ]
    },
    {
      "cell_type": "code",
      "source": [
        "from sklearn.metrics import f1_score, precision_score\n",
        "\n",
        "# Calculate F1-score for each model\n",
        "f1_rf = f1_score(y_test_encoded, y_pred_rf, average='weighted')\n",
        "f1_xgb = f1_score(y_test_encoded, y_pred_xgb, average='weighted')\n",
        "f1_svm = f1_score(y_test_encoded, y_pred_svm, average='weighted')\n",
        "\n",
        "# Calculate precision for each model\n",
        "precision_rf = precision_score(y_test_encoded, y_pred_rf, average='weighted')\n",
        "precision_xgb = precision_score(y_test_encoded, y_pred_xgb, average='weighted')\n",
        "precision_svm = precision_score(y_test_encoded, y_pred_svm, average='weighted')\n",
        "\n",
        "# Display F1-score and precision for each model\n",
        "print(\"Random Forest F1-score:\", f1_rf)\n",
        "print(\"XGBoost F1-score:\", f1_xgb)\n",
        "print(\"SVM F1-score:\", f1_svm)\n",
        "\n",
        "print(\"Random Forest Precision:\", precision_rf)\n",
        "print(\"XGBoost Precision:\", precision_xgb)\n",
        "print(\"SVM Precision:\", precision_svm)\n"
      ],
      "metadata": {
        "id": "HJcCkrnF-HeM",
        "colab": {
          "base_uri": "https://localhost:8080/"
        },
        "outputId": "d6d51bd7-4500-4a5a-9bfa-0995b9654fd8"
      },
      "execution_count": null,
      "outputs": [
        {
          "output_type": "stream",
          "name": "stdout",
          "text": [
            "Random Forest F1-score: 1.0\n",
            "XGBoost F1-score: 1.0\n",
            "SVM F1-score: 1.0\n",
            "Random Forest Precision: 1.0\n",
            "XGBoost Precision: 1.0\n",
            "SVM Precision: 1.0\n"
          ]
        }
      ]
    },
    {
      "cell_type": "code",
      "source": [
        "from sklearn.model_selection import cross_val_score\n",
        "from sklearn.ensemble import RandomForestClassifier\n",
        "from xgboost import XGBClassifier\n",
        "from sklearn.svm import SVC\n",
        "\n",
        "# List of categorical feature column names\n",
        "categorical_features = ['rbc', 'pc', 'pcc', 'ba', 'htn', 'dm', 'cad', 'appet', 'pe', 'ane']\n",
        "\n",
        "# Perform one-hot encoding on categorical features\n",
        "df_encoded = pd.get_dummies(df, columns=categorical_features)\n",
        "\n",
        "# Split Dataset\n",
        "X = df_encoded.drop(columns=['Classification'])  # Features\n",
        "y = df_encoded['Classification']  # Target\n",
        "\n",
        "from sklearn.preprocessing import LabelEncoder\n",
        "\n",
        "# Encode target classes into numeric values\n",
        "label_encoder = LabelEncoder()\n",
        "y_encoded = label_encoder.fit_transform(y)\n",
        "\n",
        "# Model Selection and Training\n",
        "model_rf = RandomForestClassifier()\n",
        "model_xgb = XGBClassifier()\n",
        "model_svm = SVC(probability=True)\n",
        "\n"
      ],
      "metadata": {
        "id": "sRIstnzs0oFA"
      },
      "execution_count": null,
      "outputs": []
    },
    {
      "cell_type": "code",
      "source": [
        "# Perform k-fold cross-validation\n",
        "cv_scores_rf = cross_val_score(model_rf, X, y_encoded, cv=5)\n",
        "cv_scores_xgb = cross_val_score(model_xgb, X, y_encoded, cv=5)\n",
        "cv_scores_svm = cross_val_score(model_svm, X, y_encoded, cv=5)\n",
        "\n",
        "# Calculate mean accuracy for each model\n",
        "mean_accuracy_rf = cv_scores_rf.mean()\n",
        "mean_accuracy_xgb = cv_scores_xgb.mean()\n",
        "mean_accuracy_svm = cv_scores_svm.mean()\n",
        "\n",
        "# Display cross-validation scores and mean accuracy\n",
        "print(\"Random Forest Cross-Validation Scores:\", cv_scores_rf)\n",
        "print(\"XGBoost Cross-Validation Scores:\", cv_scores_xgb)\n",
        "print(\"SVM Cross-Validation Scores:\", cv_scores_svm)\n",
        "print(\"Mean Accuracy (Random Forest):\", mean_accuracy_rf)\n",
        "print(\"Mean Accuracy (XGBoost):\", mean_accuracy_xgb)\n",
        "print(\"Mean Accuracy (SVM):\", mean_accuracy_svm)\n"
      ],
      "metadata": {
        "colab": {
          "base_uri": "https://localhost:8080/"
        },
        "id": "eNYrD1zE-f7-",
        "outputId": "df02d226-09ce-4178-d897-5f3efe0bda9c"
      },
      "execution_count": null,
      "outputs": [
        {
          "output_type": "stream",
          "name": "stdout",
          "text": [
            "Random Forest Cross-Validation Scores: [1. 1. 1. 1. 1.]\n",
            "XGBoost Cross-Validation Scores: [0.28125 1.      1.      1.      1.     ]\n",
            "SVM Cross-Validation Scores: [0.75       0.78125    0.8125     0.83870968 0.77419355]\n",
            "Mean Accuracy (Random Forest): 1.0\n",
            "Mean Accuracy (XGBoost): 0.85625\n",
            "Mean Accuracy (SVM): 0.7913306451612904\n"
          ]
        }
      ]
    },
    {
      "cell_type": "code",
      "source": [
        "import matplotlib.pyplot as plt\n",
        "\n",
        "# List of model names\n",
        "model_names = ['Random Forest', 'XGBoost', 'SVM']\n",
        "\n",
        "# List of mean accuracies\n",
        "mean_accuracies = [mean_accuracy_rf, mean_accuracy_xgb, mean_accuracy_svm]\n",
        "\n",
        "# Create a bar chart to visualize mean accuracies\n",
        "plt.bar(model_names, mean_accuracies, color=['blue', 'green', 'red'])\n",
        "plt.xlabel('Models')\n",
        "plt.ylabel('Mean Accuracy')\n",
        "plt.title('Mean Accuracy Comparison of Different Models')\n",
        "plt.ylim(0, 1.0)  # Set the y-axis range\n",
        "plt.show()\n"
      ],
      "metadata": {
        "colab": {
          "base_uri": "https://localhost:8080/",
          "height": 472
        },
        "id": "9s-NRhB37SM7",
        "outputId": "96cbaddc-f81e-4c95-d7a8-e852062ec94d"
      },
      "execution_count": null,
      "outputs": [
        {
          "output_type": "display_data",
          "data": {
            "text/plain": [
              "<Figure size 640x480 with 1 Axes>"
            ],
            "image/png": "[encoded data removed]"
          },
          "metadata": {}
        }
      ]
    },
    {
      "cell_type": "code",
      "source": [
        "# Define parameter grids for each model\n",
        "param_grid_rf = {\n",
        "    'n_estimators': [100, 200, 300],\n",
        "    'max_depth': [None, 10, 20],\n",
        "    'min_samples_split': [2, 5, 10],\n",
        "    'min_samples_leaf': [1, 2, 4]\n",
        "}\n",
        "\n",
        "param_grid_xgb = {\n",
        "    'n_estimators': [100, 200, 300],\n",
        "    'max_depth': [3, 4, 5],\n",
        "    'learning_rate': [0.01, 0.1, 0.2],\n",
        "    'subsample': [0.8, 1.0],\n",
        "    'colsample_bytree': [0.8, 1.0]\n",
        "}\n",
        "\n",
        "param_grid_svm = {\n",
        "    'C': [0.1, 1, 10],\n",
        "    'kernel': ['linear', 'rbf', 'poly'],\n",
        "    'gamma': ['scale', 'auto']\n",
        "}\n",
        "\n",
        "# Perform grid search with cross-validation for each model\n",
        "grid_search_rf = GridSearchCV(RandomForestClassifier(), param_grid_rf, cv=5)\n",
        "grid_search_xgb = GridSearchCV(XGBClassifier(), param_grid_xgb, cv=5)\n",
        "grid_search_svm = GridSearchCV(SVC(), param_grid_svm, cv=5)\n",
        "\n",
        "grid_search_rf.fit(X_train, y_train_encoded)\n",
        "grid_search_xgb.fit(X_train, y_train_encoded)\n",
        "grid_search_svm.fit(X_train, y_train_encoded)\n",
        "\n",
        "best_rf = grid_search_rf.best_estimator_\n",
        "best_xgb = grid_search_xgb.best_estimator_\n",
        "best_svm = grid_search_svm.best_estimator_\n",
        "\n",
        "# Evaluate the best models\n",
        "y_pred_best_rf = best_rf.predict(X_test)\n",
        "y_pred_best_xgb = best_xgb.predict(X_test)\n",
        "y_pred_best_svm = best_svm.predict(X_test)\n",
        "\n",
        "print(\"Best Random Forest Model:\")\n",
        "print(classification_report(y_test_encoded, y_pred_best_rf))\n",
        "\n",
        "print(\"Best XGBoost Model:\")\n",
        "print(classification_report(y_test_encoded, y_pred_best_xgb))\n",
        "\n",
        "print(\"Best SVM Model:\")\n",
        "print(classification_report(y_test_encoded, y_pred_best_svm))\n"
      ],
      "metadata": {
        "colab": {
          "base_uri": "https://localhost:8080/"
        },
        "id": "Gq-Q0sG_tQeZ",
        "outputId": "152d0145-0179-404e-ae46-864827c69135"
      },
      "execution_count": null,
      "outputs": [
        {
          "output_type": "stream",
          "name": "stdout",
          "text": [
            "Best Random Forest Model:\n",
            "              precision    recall  f1-score   support\n",
            "\n",
            "           0       1.00      1.00      1.00         9\n",
            "           1       1.00      1.00      1.00        23\n",
            "\n",
            "    accuracy                           1.00        32\n",
            "   macro avg       1.00      1.00      1.00        32\n",
            "weighted avg       1.00      1.00      1.00        32\n",
            "\n",
            "Best XGBoost Model:\n",
            "              precision    recall  f1-score   support\n",
            "\n",
            "           0       1.00      1.00      1.00         9\n",
            "           1       1.00      1.00      1.00        23\n",
            "\n",
            "    accuracy                           1.00        32\n",
            "   macro avg       1.00      1.00      1.00        32\n",
            "weighted avg       1.00      1.00      1.00        32\n",
            "\n",
            "Best SVM Model:\n",
            "              precision    recall  f1-score   support\n",
            "\n",
            "           0       1.00      1.00      1.00         9\n",
            "           1       1.00      1.00      1.00        23\n",
            "\n",
            "    accuracy                           1.00        32\n",
            "   macro avg       1.00      1.00      1.00        32\n",
            "weighted avg       1.00      1.00      1.00        32\n",
            "\n"
          ]
        }
      ]
    },
    {
      "cell_type": "code",
      "source": [
        "from sklearn.metrics import confusion_matrix\n",
        "\n",
        "# Confusion Matrix for Random Forest\n",
        "cm_rf = confusion_matrix(y_test_encoded, y_pred_best_rf)\n",
        "print(\"Confusion Matrix - Random Forest:\")\n",
        "print(cm_rf)\n",
        "\n",
        "# Confusion Matrix for XGBoost\n",
        "cm_xgb = confusion_matrix(y_test_encoded, y_pred_best_xgb)\n",
        "print(\"\\nConfusion Matrix - XGBoost:\")\n",
        "print(cm_xgb)\n",
        "\n",
        "# Confusion Matrix for SVM\n",
        "cm_svm = confusion_matrix(y_test_encoded, y_pred_best_svm)\n",
        "print(\"\\nConfusion Matrix - SVM:\")\n",
        "print(cm_svm)\n"
      ],
      "metadata": {
        "colab": {
          "base_uri": "https://localhost:8080/"
        },
        "id": "CEi-JonyKvhh",
        "outputId": "3bc707f4-9350-4481-a134-a3dfa10e9e3a"
      },
      "execution_count": null,
      "outputs": [
        {
          "output_type": "stream",
          "name": "stdout",
          "text": [
            "Confusion Matrix - Random Forest:\n",
            "[[ 9  0]\n",
            " [ 0 23]]\n",
            "\n",
            "Confusion Matrix - XGBoost:\n",
            "[[ 9  0]\n",
            " [ 0 23]]\n",
            "\n",
            "Confusion Matrix - SVM:\n",
            "[[ 9  0]\n",
            " [ 0 23]]\n"
          ]
        }
      ]
    },
    {
      "cell_type": "code",
      "source": [
        "import matplotlib.pyplot as plt\n",
        "\n",
        "# List of model names\n",
        "model_names = ['Random Forest', 'XGBoost', 'SVM']\n",
        "\n",
        "# List of cross-validation mean accuracies\n",
        "mean_accuracies = [mean_accuracy_rf, mean_accuracy_xgb, mean_accuracy_svm]\n",
        "\n",
        "# List of cross-validation scores for each model\n",
        "cv_scores = [cv_scores_rf, cv_scores_xgb, cv_scores_svm]\n",
        "\n",
        "# Plotting Mean Accuracies\n",
        "plt.figure(figsize=(10, 6))\n",
        "plt.bar(model_names, mean_accuracies, color=['blue', 'green', 'red'])\n",
        "plt.xlabel('Models')\n",
        "plt.ylabel('Mean Accuracy')\n",
        "plt.title('Mean Accuracy Comparison of Different Models')\n",
        "plt.ylim(0, 1.0)  # Set the y-axis range\n",
        "plt.show()\n",
        "\n",
        "# Plotting Cross-Validation Scores\n",
        "plt.figure(figsize=(10, 6))\n",
        "plt.boxplot(cv_scores, labels=model_names)\n",
        "plt.xlabel('Models')\n",
        "plt.ylabel('Cross-Validation Accuracy Scores')\n",
        "plt.title('Cross-Validation Scores Comparison of Different Models')\n",
        "plt.ylim(0, 1.0)  # Set the y-axis range\n",
        "plt.show()\n"
      ],
      "metadata": {
        "colab": {
          "base_uri": "https://localhost:8080/",
          "height": 1000
        },
        "id": "nkYXkXXmK51K",
        "outputId": "dfdaa9a9-c3a2-4b3b-d8ea-49e19128a2ac"
      },
      "execution_count": null,
      "outputs": [
        {
          "output_type": "display_data",
          "data": {
            "text/plain": [
              "<Figure size 1000x600 with 1 Axes>"
            ],
            "image/png": "[encoded data removed]"
          },
          "metadata": {}
        },
        {
          "output_type": "display_data",
          "data": {
            "text/plain": [
              "<Figure size 1000x600 with 1 Axes>"
            ],
            "image/png": "[encoded data removed]"
          },
          "metadata": {}
        }
      ]
    },
    {
      "cell_type": "code",
      "source": [
        "!pip install xgboost\n",
        "from xgboost import XGBClassifier\n",
        "\n",
        "from sklearn.ensemble import RandomForestClassifier\n",
        "from xgboost import XGBClassifier # Import XGBClassifier from the correct module\n",
        "from sklearn.svm import SVC\n",
        "from sklearn.model_selection import cross_val_score, KFold"
      ],
      "metadata": {
        "colab": {
          "base_uri": "https://localhost:8080/"
        },
        "id": "fp_F8JszN2S9",
        "outputId": "c2380107-fa1c-454d-8466-85fafcf3d629"
      },
      "execution_count": null,
      "outputs": [
        {
          "output_type": "stream",
          "name": "stdout",
          "text": [
            "Requirement already satisfied: xgboost in /usr/local/lib/python3.10/dist-packages (2.0.3)\n",
            "Requirement already satisfied: numpy in /usr/local/lib/python3.10/dist-packages (from xgboost) (1.25.2)\n",
            "Requirement already satisfied: scipy in /usr/local/lib/python3.10/dist-packages (from xgboost) (1.11.4)\n"
          ]
        }
      ]
    },
    {
      "cell_type": "code",
      "source": [
        "from xgboost import XGBClassifier\n",
        "import numpy as np\n",
        "import pandas as pd\n",
        "from sklearn.model_selection import cross_val_score, KFold\n",
        "from sklearn.ensemble import RandomForestClassifier\n",
        "from sklearn.svm import SVC\n",
        "from xgboost import XGBClassifier\n",
        "\n",
        "\n",
        "# Define models\n",
        "model_rf = RandomForestClassifier()\n",
        "model_xgb = XGBClassifier()\n",
        "model_svm = SVC()\n",
        "\n",
        "# Define K-Fold cross-validator\n",
        "kf = KFold(n_splits=5, shuffle=True, random_state=42)\n",
        "\n",
        "# Perform cross-validation for Random Forest\n",
        "cv_scores_rf = cross_val_score(model_rf, X, y_encoded, cv=kf)\n",
        "\n",
        "# Perform cross-validation for XGBoost\n",
        "cv_scores_xgb = cross_val_score(model_xgb, X, y_encoded, cv=kf)\n",
        "\n",
        "# Perform cross-validation for SVM\n",
        "cv_scores_svm = cross_val_score(model_svm, X, y_encoded, cv=kf)\n",
        "\n",
        "# Calculate mean accuracy for each model\n",
        "mean_accuracy_rf = cv_scores_rf.mean()\n",
        "mean_accuracy_xgb = cv_scores_xgb.mean()\n",
        "mean_accuracy_svm = cv_scores_svm.mean()\n",
        "\n",
        "# Display cross-validation scores and mean accuracy\n",
        "print(\"K-Fold Cross-Validation Scores - Random Forest:\", cv_scores_rf)\n",
        "print(\"Mean Accuracy (Random Forest):\", mean_accuracy_rf)\n",
        "print(\"\\nK-Fold Cross-Validation Scores - XGBoost:\", cv_scores_xgb)\n",
        "print(\"Mean Accuracy (XGBoost):\", mean_accuracy_xgb)\n",
        "print(\"\\nK-Fold Cross-Validation Scores - SVM:\", cv_scores_svm)\n",
        "print(\"Mean Accuracy (SVM):\", mean_accuracy_svm)\n"
      ],
      "metadata": {
        "colab": {
          "base_uri": "https://localhost:8080/"
        },
        "id": "qMpHmtXULOB7",
        "outputId": "4b045458-fb30-484f-919b-cc5e9c8683ef"
      },
      "execution_count": null,
      "outputs": [
        {
          "output_type": "stream",
          "name": "stdout",
          "text": [
            "K-Fold Cross-Validation Scores - Random Forest: [1. 1. 1. 1. 1.]\n",
            "Mean Accuracy (Random Forest): 1.0\n",
            "\n",
            "K-Fold Cross-Validation Scores - XGBoost: [1.         1.         1.         0.96774194 1.        ]\n",
            "Mean Accuracy (XGBoost): 0.9935483870967742\n",
            "\n",
            "K-Fold Cross-Validation Scores - SVM: [0.8125     0.75       0.78125    0.77419355 0.83870968]\n",
            "Mean Accuracy (SVM): 0.7913306451612904\n"
          ]
        }
      ]
    },
    {
      "cell_type": "code",
      "source": [
        "from sklearn.model_selection import StratifiedKFold\n",
        "\n",
        "# Define Stratified K-Fold cross-validator\n",
        "skf = StratifiedKFold(n_splits=5, shuffle=True, random_state=42)\n",
        "\n",
        "# Perform cross-validation for Random Forest\n",
        "cv_scores_rf_skf = cross_val_score(model_rf, X, y_encoded, cv=skf)\n",
        "\n",
        "# Perform cross-validation for XGBoost\n",
        "cv_scores_xgb_skf = cross_val_score(model_xgb, X, y_encoded, cv=skf)\n",
        "\n",
        "# Perform cross-validation for SVM\n",
        "cv_scores_svm_skf = cross_val_score(model_svm, X, y_encoded, cv=skf)\n",
        "\n",
        "# Calculate mean accuracy for each model using Stratified K-Fold\n",
        "mean_accuracy_rf_skf = cv_scores_rf_skf.mean()\n",
        "mean_accuracy_xgb_skf = cv_scores_xgb_skf.mean()\n",
        "mean_accuracy_svm_skf = cv_scores_svm_skf.mean()\n",
        "\n",
        "# Display cross-validation scores and mean accuracy for Stratified K-Fold\n",
        "print(\"Stratified K-Fold Cross-Validation Scores - Random Forest:\", cv_scores_rf_skf)\n",
        "print(\"Mean Accuracy (Random Forest):\", mean_accuracy_rf_skf)\n",
        "print(\"\\nStratified K-Fold Cross-Validation Scores - XGBoost:\", cv_scores_xgb_skf)\n",
        "print(\"Mean Accuracy (XGBoost):\", mean_accuracy_xgb_skf)\n",
        "print(\"\\nStratified K-Fold Cross-Validation Scores - SVM:\", cv_scores_svm_skf)\n",
        "print(\"Mean Accuracy (SVM):\", mean_accuracy_svm_skf)\n"
      ],
      "metadata": {
        "colab": {
          "base_uri": "https://localhost:8080/"
        },
        "id": "YMd4nuy9OO0G",
        "outputId": "0e4fa927-6546-4fd9-9b94-1c27d83dfe7c"
      },
      "execution_count": null,
      "outputs": [
        {
          "output_type": "stream",
          "name": "stdout",
          "text": [
            "Stratified K-Fold Cross-Validation Scores - Random Forest: [1. 1. 1. 1. 1.]\n",
            "Mean Accuracy (Random Forest): 1.0\n",
            "\n",
            "Stratified K-Fold Cross-Validation Scores - XGBoost: [1.         1.         1.         0.96774194 1.        ]\n",
            "Mean Accuracy (XGBoost): 0.9935483870967742\n",
            "\n",
            "Stratified K-Fold Cross-Validation Scores - SVM: [0.8125     0.8125     0.78125    0.80645161 0.74193548]\n",
            "Mean Accuracy (SVM): 0.7909274193548388\n"
          ]
        }
      ]
    },
    {
      "cell_type": "code",
      "source": [
        "from sklearn.model_selection import LeaveOneOut\n",
        "\n",
        "# Define Leave-One-Out cross-validator\n",
        "loo = LeaveOneOut()\n",
        "\n",
        "# Perform cross-validation for Random Forest\n",
        "cv_scores_rf_loo = cross_val_score(model_rf, X, y_encoded, cv=loo)\n",
        "\n",
        "# Perform cross-validation for XGBoost\n",
        "cv_scores_xgb_loo = cross_val_score(model_xgb, X, y_encoded, cv=loo)\n",
        "\n",
        "# Perform cross-validation for SVM\n",
        "cv_scores_svm_loo = cross_val_score(model_svm, X, y_encoded, cv=loo)\n",
        "\n",
        "# Calculate mean accuracy for each model using LOO\n",
        "mean_accuracy_rf_loo = cv_scores_rf_loo.mean()\n",
        "mean_accuracy_xgb_loo = cv_scores_xgb_loo.mean()\n",
        "mean_accuracy_svm_loo = cv_scores_svm_loo.mean()\n",
        "\n",
        "# Display cross-validation scores and mean accuracy for LOO\n",
        "print(\"Leave-One-Out Cross-Validation Scores - Random Forest:\", cv_scores_rf_loo)\n",
        "print(\"Mean Accuracy (Random Forest):\", mean_accuracy_rf_loo)\n",
        "print(\"\\nLeave-One-Out Cross-Validation Scores - XGBoost:\", cv_scores_xgb_loo)\n",
        "print(\"Mean Accuracy (XGBoost):\", mean_accuracy_xgb_loo)\n",
        "print(\"\\nLeave-One-Out Cross-Validation Scores - SVM:\", cv_scores_svm_loo)\n",
        "print(\"Mean Accuracy (SVM):\", mean_accuracy_svm_loo)\n"
      ],
      "metadata": {
        "colab": {
          "base_uri": "https://localhost:8080/"
        },
        "id": "-qFEUukUOT_J",
        "outputId": "e203baf0-33c8-49de-d827-1457f4753d16"
      },
      "execution_count": null,
      "outputs": [
        {
          "output_type": "stream",
          "name": "stdout",
          "text": [
            "Leave-One-Out Cross-Validation Scores - Random Forest: [1. 1. 1. 1. 1. 1. 1. 1. 1. 1. 1. 1. 1. 1. 1. 1. 1. 1. 1. 1. 1. 1. 1. 1.\n",
            " 1. 1. 1. 1. 1. 1. 1. 1. 1. 1. 1. 1. 1. 1. 1. 1. 1. 1. 1. 1. 1. 1. 1. 1.\n",
            " 1. 1. 1. 1. 1. 1. 1. 1. 1. 1. 1. 1. 1. 1. 1. 1. 1. 1. 1. 1. 1. 1. 1. 1.\n",
            " 1. 1. 1. 1. 1. 1. 1. 1. 1. 1. 1. 1. 1. 1. 1. 1. 1. 1. 1. 1. 1. 1. 1. 1.\n",
            " 1. 1. 1. 1. 1. 1. 1. 1. 1. 1. 1. 1. 1. 1. 1. 1. 1. 1. 1. 1. 1. 1. 1. 1.\n",
            " 1. 1. 1. 1. 1. 1. 1. 1. 1. 1. 1. 1. 1. 1. 1. 1. 1. 1. 1. 1. 1. 1. 1. 1.\n",
            " 1. 1. 1. 1. 1. 1. 1. 1. 1. 1. 1. 1. 1. 1.]\n",
            "Mean Accuracy (Random Forest): 1.0\n",
            "\n",
            "Leave-One-Out Cross-Validation Scores - XGBoost: [1. 1. 1. 1. 1. 1. 1. 1. 1. 1. 1. 1. 1. 1. 1. 1. 1. 1. 1. 1. 1. 1. 1. 1.\n",
            " 1. 1. 1. 1. 1. 1. 1. 1. 1. 1. 1. 1. 1. 1. 1. 1. 1. 1. 1. 0. 1. 1. 1. 1.\n",
            " 1. 1. 1. 1. 1. 1. 1. 1. 1. 1. 1. 1. 1. 1. 1. 1. 1. 1. 1. 1. 1. 1. 1. 1.\n",
            " 1. 1. 1. 1. 1. 1. 1. 1. 1. 1. 1. 1. 1. 1. 1. 1. 1. 1. 1. 1. 1. 1. 1. 1.\n",
            " 1. 1. 1. 1. 1. 1. 1. 1. 1. 1. 1. 1. 1. 1. 1. 1. 1. 1. 1. 1. 1. 1. 1. 1.\n",
            " 1. 1. 1. 1. 1. 1. 1. 1. 1. 1. 1. 1. 1. 1. 1. 1. 1. 1. 1. 1. 1. 1. 1. 1.\n",
            " 1. 1. 1. 1. 1. 1. 1. 1. 1. 1. 1. 1. 1. 1.]\n",
            "Mean Accuracy (XGBoost): 0.9936708860759493\n",
            "\n",
            "Leave-One-Out Cross-Validation Scores - SVM: [0. 0. 0. 0. 0. 0. 0. 1. 0. 1. 0. 0. 0. 0. 0. 0. 0. 1. 0. 1. 0. 0. 1. 1.\n",
            " 0. 0. 0. 0. 1. 0. 1. 0. 1. 0. 0. 0. 0. 0. 1. 0. 0. 0. 0. 1. 1. 1. 1. 1.\n",
            " 1. 1. 1. 1. 1. 1. 1. 1. 1. 1. 1. 1. 1. 1. 1. 1. 1. 1. 1. 1. 1. 1. 1. 1.\n",
            " 1. 1. 1. 1. 1. 1. 1. 1. 1. 1. 1. 1. 1. 1. 1. 1. 1. 1. 1. 1. 1. 1. 1. 1.\n",
            " 1. 1. 1. 1. 1. 1. 1. 1. 1. 1. 1. 1. 1. 1. 1. 1. 1. 1. 1. 1. 1. 1. 1. 1.\n",
            " 1. 1. 1. 1. 1. 1. 1. 1. 1. 1. 1. 1. 1. 1. 1. 1. 1. 1. 1. 1. 1. 1. 1. 1.\n",
            " 1. 1. 1. 1. 1. 1. 1. 1. 1. 1. 1. 1. 1. 1.]\n",
            "Mean Accuracy (SVM): 0.7911392405063291\n"
          ]
        }
      ]
    },
    {
      "cell_type": "code",
      "source": [
        "from sklearn.model_selection import StratifiedShuffleSplit\n",
        "\n",
        "# Define Stratified Shuffle Split cross-validator\n",
        "sss = StratifiedShuffleSplit(n_splits=5, test_size=0.2, random_state=42)\n",
        "\n",
        "# Perform cross-validation for Random Forest\n",
        "cv_scores_rf_sss = cross_val_score(model_rf, X, y_encoded, cv=sss)\n",
        "\n",
        "# Perform cross-validation for XGBoost\n",
        "cv_scores_xgb_sss = cross_val_score(model_xgb, X, y_encoded, cv=sss)\n",
        "\n",
        "# Perform cross-validation for SVM\n",
        "cv_scores_svm_sss = cross_val_score(model_svm, X, y_encoded, cv=sss)\n",
        "\n",
        "# Calculate mean accuracy for each model using Stratified Shuffle Split\n",
        "mean_accuracy_rf_sss = cv_scores_rf_sss.mean()\n",
        "mean_accuracy_xgb_sss = cv_scores_xgb_sss.mean()\n",
        "mean_accuracy_svm_sss = cv_scores_svm_sss.mean()\n",
        "\n",
        "# Display cross-validation scores and mean accuracy for Stratified Shuffle Split\n",
        "print(\"Stratified Shuffle Split Cross-Validation Scores - Random Forest:\", cv_scores_rf_sss)\n",
        "print(\"Mean Accuracy (Random Forest):\", mean_accuracy_rf_sss)\n",
        "print(\"\\nStratified Shuffle Split Cross-Validation Scores - XGBoost:\", cv_scores_xgb_sss)\n",
        "print(\"Mean Accuracy (XGBoost):\", mean_accuracy_xgb_sss)\n",
        "print(\"\\nStratified Shuffle Split Cross-Validation Scores - SVM:\", cv_scores_svm_sss)\n",
        "print(\"Mean Accuracy (SVM):\", mean_accuracy_svm_sss)\n"
      ],
      "metadata": {
        "colab": {
          "base_uri": "https://localhost:8080/"
        },
        "id": "e5rbL14OOg43",
        "outputId": "a169f1db-1bb6-4218-c302-10e3db3fe2f2"
      },
      "execution_count": null,
      "outputs": [
        {
          "output_type": "stream",
          "name": "stdout",
          "text": [
            "Stratified Shuffle Split Cross-Validation Scores - Random Forest: [1. 1. 1. 1. 1.]\n",
            "Mean Accuracy (Random Forest): 1.0\n",
            "\n",
            "Stratified Shuffle Split Cross-Validation Scores - XGBoost: [1.      1.      0.96875 0.96875 0.9375 ]\n",
            "Mean Accuracy (XGBoost): 0.975\n",
            "\n",
            "Stratified Shuffle Split Cross-Validation Scores - SVM: [0.84375 0.78125 0.78125 0.75    0.8125 ]\n",
            "Mean Accuracy (SVM): 0.79375\n"
          ]
        }
      ]
    },
    {
      "cell_type": "code",
      "source": [
        "import numpy as np\n",
        "import pandas as pd\n",
        "from sklearn.model_selection import cross_val_score, StratifiedKFold\n",
        "from sklearn.ensemble import RandomForestClassifier\n",
        "from sklearn.svm import SVC\n",
        "from xgboost import XGBClassifier\n",
        "\n",
        "# Read the CSV file\n",
        "df = pd.read_csv('kidney_disease.csv?rlkey=ejadxsf7xnn5hzabo604a30k3')\n",
        "\n",
        "# Data preprocessing (assuming similar steps as before)\n",
        "df.dropna(inplace=True)\n",
        "\n",
        "# Rename columns for better readability\n",
        "column_names = {\n",
        "    'age': 'Age',\n",
        "    'bp': 'Blood_Pressure',\n",
        "    'sg': 'Specific_Gravity',\n",
        "    'al': 'Albumin',\n",
        "    'su': 'Sugar',\n",
        "    'bgr': 'Blood_Glucose_Random',\n",
        "    'bu': 'Blood_Urea',\n",
        "    'sc': 'Serum_Creatinine',\n",
        "    'sod': 'Sodium',\n",
        "    'pot': 'Potassium',\n",
        "    'hemo': 'Hemoglobin',\n",
        "    'pcv': 'Packed_Cell_Volume',\n",
        "    'wc': 'White_Blood_Cell_Count',\n",
        "    'rc': 'Red_Blood_Cell_Count',\n",
        "    'classification': 'Classification'\n",
        "}\n",
        "\n",
        "df.rename(columns=column_names, inplace=True)\n",
        "\n",
        "# List of categorical feature column names\n",
        "categorical_features = ['rbc', 'pc', 'pcc', 'ba', 'htn', 'dm', 'cad', 'appet', 'pe', 'ane']\n",
        "\n",
        "# Perform one-hot encoding on categorical features\n",
        "df_encoded = pd.get_dummies(df, columns=categorical_features)\n",
        "\n",
        "# Feature selection using ANOVA F-value\n",
        "from sklearn.feature_selection import SelectKBest, f_classif\n",
        "num_features_to_select = 10\n",
        "selector = SelectKBest(score_func=f_classif, k=num_features_to_select)\n",
        "X_new = selector.fit_transform(df_encoded.drop(columns=['Classification']), df_encoded['Classification'])\n",
        "selected_indices = selector.get_support(indices=True)\n",
        "selected_features = df_encoded.drop(columns=['Classification']).columns[selected_indices]\n",
        "\n",
        "# Split Dataset\n",
        "X = X_new\n",
        "y = df_encoded['Classification']\n",
        "\n",
        "from sklearn.preprocessing import LabelEncoder\n",
        "\n",
        "# Encode target classes into numeric values\n",
        "label_encoder = LabelEncoder()\n",
        "y_encoded = label_encoder.fit_transform(y)\n",
        "\n",
        "# Model Selection\n",
        "model_rf = RandomForestClassifier()\n",
        "model_xgb = XGBClassifier()\n",
        "model_svm = SVC(probability=True)\n",
        "\n",
        "# Use Stratified K-Fold Cross-Validation\n",
        "stratified_kf = StratifiedKFold(n_splits=5)\n",
        "\n",
        "# Evaluate models\n",
        "cv_scores_rf = cross_val_score(model_rf, X, y_encoded, cv=stratified_kf)\n",
        "cv_scores_xgb = cross_val_score(model_xgb, X, y_encoded, cv=stratified_kf)\n",
        "cv_scores_svm = cross_val_score(model_svm, X, y_encoded, cv=stratified_kf)\n",
        "\n",
        "# Calculate mean accuracy for each model\n",
        "mean_accuracy_rf = cv_scores_rf.mean()\n",
        "mean_accuracy_xgb = cv_scores_xgb.mean()\n",
        "mean_accuracy_svm = cv_scores_svm.mean()\n",
        "\n",
        "# Display cross-validation scores and mean accuracy\n",
        "print(\"Random Forest Cross-Validation Scores:\", cv_scores_rf)\n",
        "print(\"XGBoost Cross-Validation Scores:\", cv_scores_xgb)\n",
        "print(\"SVM Cross-Validation Scores:\", cv_scores_svm)\n",
        "print(\"Mean Accuracy (Random Forest):\", mean_accuracy_rf)\n",
        "print(\"Mean Accuracy (XGBoost):\", mean_accuracy_xgb)\n",
        "print(\"Mean Accuracy (SVM):\", mean_accuracy_svm)\n",
        "\n",
        "# Save the Random Forest model\n",
        "import joblib\n",
        "joblib.dump(model_rf, 'random_forest_model.pkl')\n",
        "\n",
        "# Plot cross-validation scores\n",
        "import matplotlib.pyplot as plt\n",
        "\n",
        "# List of model names\n",
        "model_names = ['Random Forest', 'XGBoost', 'SVM']\n",
        "\n",
        "# List of mean accuracies\n",
        "mean_accuracies = [mean_accuracy_rf, mean_accuracy_xgb, mean_accuracy_svm]\n",
        "\n",
        "# Create a bar chart to visualize mean accuracies\n",
        "plt.bar(model_names, mean_accuracies, color=['blue', 'green', 'red'])\n",
        "plt.xlabel('Models')\n",
        "plt.ylabel('Mean Accuracy')\n",
        "plt.title('Mean Accuracy Comparison of Different Models')\n",
        "plt.ylim(0, 1.0)  # Set the y-axis range\n",
        "plt.show()\n"
      ],
      "metadata": {
        "colab": {
          "base_uri": "https://localhost:8080/",
          "height": 576
        },
        "id": "fmbR2lcTPTN9",
        "outputId": "cb1f21c5-27e8-4d85-f5fe-3d69359f5c87"
      },
      "execution_count": null,
      "outputs": [
        {
          "output_type": "stream",
          "name": "stdout",
          "text": [
            "Random Forest Cross-Validation Scores: [1. 1. 1. 1. 1.]\n",
            "XGBoost Cross-Validation Scores: [0.28125 1.      1.      1.      1.     ]\n",
            "SVM Cross-Validation Scores: [1.         1.         1.         0.96774194 0.74193548]\n",
            "Mean Accuracy (Random Forest): 1.0\n",
            "Mean Accuracy (XGBoost): 0.85625\n",
            "Mean Accuracy (SVM): 0.9419354838709678\n"
          ]
        },
        {
          "output_type": "display_data",
          "data": {
            "text/plain": [
              "<Figure size 640x480 with 1 Axes>"
            ],
            "image/png": "[encoded data removed]"
          },
          "metadata": {}
        }
      ]
    },
    {
      "cell_type": "code",
      "source": [
        "from sklearn.model_selection import TimeSeriesSplit\n",
        "\n",
        "# Define Time Series cross-validator\n",
        "tscv = TimeSeriesSplit(n_splits=5)\n",
        "\n",
        "# Perform cross-validation for Random Forest\n",
        "cv_scores_rf_tscv = cross_val_score(model_rf, X, y_encoded, cv=tscv)\n",
        "\n",
        "# Perform cross-validation for XGBoost\n",
        "cv_scores_xgb_tscv = cross_val_score(model_xgb, X, y_encoded, cv=tscv)\n",
        "\n",
        "# Perform cross-validation for SVM\n",
        "cv_scores_svm_tscv = cross_val_score(model_svm, X, y_encoded, cv=tscv)\n",
        "\n",
        "# Calculate mean accuracy for each model using Time Series Cross-Validation\n",
        "mean_accuracy_rf_tscv = cv_scores_rf_tscv.mean()\n",
        "mean_accuracy_xgb_tscv = cv_scores_xgb_tscv.mean()\n",
        "mean_accuracy_svm_tscv = cv_scores_svm_tscv.mean()\n",
        "\n",
        "# Display cross-validation scores and mean accuracy for Time Series Cross-Validation\n",
        "print(\"Time Series Cross-Validation Scores - Random Forest:\", cv_scores_rf_tscv)\n",
        "print(\"Mean Accuracy (Random Forest):\", mean_accuracy_rf_tscv)\n",
        "print(\"\\nTime Series Cross-Validation Scores - XGBoost:\", cv_scores_xgb_tscv)\n",
        "print(\"Mean Accuracy (XGBoost):\", mean_accuracy_xgb_tscv)\n",
        "print(\"\\nTime Series Cross-Validation Scores - SVM:\", cv_scores_svm_tscv)\n",
        "print(\"Mean Accuracy (SVM):\", mean_accuracy_svm_tscv)\n"
      ],
      "metadata": {
        "colab": {
          "base_uri": "https://localhost:8080/"
        },
        "id": "J1L7pkyNOmKb",
        "outputId": "11342743-c719-449c-a16e-b5a757591b0d"
      },
      "execution_count": null,
      "outputs": [
        {
          "output_type": "stream",
          "name": "stdout",
          "text": [
            "Time Series Cross-Validation Scores - Random Forest: [0.57692308 1.         1.         1.         1.        ]\n",
            "Mean Accuracy (Random Forest): 0.9153846153846154\n",
            "\n",
            "Time Series Cross-Validation Scores - XGBoost: [0.57692308 1.         1.         1.         1.        ]\n",
            "Mean Accuracy (XGBoost): 0.9153846153846154\n",
            "\n",
            "Time Series Cross-Validation Scores - SVM: [nan  1.  1.  1.  1.]\n",
            "Mean Accuracy (SVM): nan\n"
          ]
        },
        {
          "output_type": "stream",
          "name": "stderr",
          "text": [
            "/usr/local/lib/python3.10/dist-packages/sklearn/model_selection/_validation.py:378: FitFailedWarning: \n",
            "1 fits failed out of a total of 5.\n",
            "The score on these train-test partitions for these parameters will be set to nan.\n",
            "If these failures are not expected, you can try to debug them by setting error_score='raise'.\n",
            "\n",
            "Below are more details about the failures:\n",
            "--------------------------------------------------------------------------------\n",
            "1 fits failed with the following error:\n",
            "Traceback (most recent call last):\n",
            "  File \"/usr/local/lib/python3.10/dist-packages/sklearn/model_selection/_validation.py\", line 686, in _fit_and_score\n",
            "    estimator.fit(X_train, y_train, **fit_params)\n",
            "  File \"/usr/local/lib/python3.10/dist-packages/sklearn/svm/_base.py\", line 201, in fit\n",
            "    y = self._validate_targets(y)\n",
            "  File \"/usr/local/lib/python3.10/dist-packages/sklearn/svm/_base.py\", line 749, in _validate_targets\n",
            "    raise ValueError(\n",
            "ValueError: The number of classes has to be greater than one; got 1 class\n",
            "\n",
            "  warnings.warn(some_fits_failed_message, FitFailedWarning)\n"
          ]
        }
      ]
    },
    {
      "cell_type": "code",
      "source": [
        "import pandas as pd\n",
        "import seaborn as sns\n",
        "\n",
        "# Collect accuracies in a dictionary\n",
        "results = {\n",
        "    'Cross-Validation Method': ['Stratified K-Fold', 'Stratified K-Fold', 'Stratified K-Fold',\n",
        "                                'Stratified Shuffle Split', 'Stratified Shuffle Split', 'Stratified Shuffle Split',\n",
        "                                'Leave-One-Out', 'Leave-One-Out', 'Leave-One-Out'],\n",
        "    'Model': ['Random Forest', 'XGBoost', 'SVM',\n",
        "              'Random Forest', 'XGBoost', 'SVM',\n",
        "              'Random Forest', 'XGBoost', 'SVM'],\n",
        "    'Accuracy': [mean_accuracy_rf, mean_accuracy_xgb, mean_accuracy_svm,\n",
        "                 mean_accuracy_rf_sss, mean_accuracy_xgb_sss, mean_accuracy_svm_sss,\n",
        "                 mean_accuracy_rf_loo, mean_accuracy_xgb_loo, mean_accuracy_svm_loo]\n",
        "}\n",
        "\n",
        "# Convert dictionary to DataFrame\n",
        "results_df = pd.DataFrame(results)\n",
        "\n",
        "# Display the DataFrame\n",
        "print(results_df)\n",
        "\n",
        "# Plotting the accuracies\n",
        "plt.figure(figsize=(14, 8))\n",
        "sns.barplot(x='Cross-Validation Method', y='Accuracy', hue='Model', data=results_df)\n",
        "plt.title('Model Accuracies Across Different Cross-Validation Methods')\n",
        "plt.ylim(0, 1.0)\n",
        "plt.xlabel('Cross-Validation Method')\n",
        "plt.ylabel('Accuracy')\n",
        "plt.legend(loc='upper right')\n",
        "plt.show()\n"
      ],
      "metadata": {
        "colab": {
          "base_uri": "https://localhost:8080/",
          "height": 892
        },
        "id": "iAq0oyS6RQdp",
        "outputId": "3e3c2d94-7c75-447e-b2ef-3247e04f2368"
      },
      "execution_count": null,
      "outputs": [
        {
          "output_type": "stream",
          "name": "stdout",
          "text": [
            "    Cross-Validation Method          Model  Accuracy\n",
            "0         Stratified K-Fold  Random Forest  1.000000\n",
            "1         Stratified K-Fold        XGBoost  0.856250\n",
            "2         Stratified K-Fold            SVM  0.941935\n",
            "3  Stratified Shuffle Split  Random Forest  1.000000\n",
            "4  Stratified Shuffle Split        XGBoost  0.975000\n",
            "5  Stratified Shuffle Split            SVM  0.793750\n",
            "6             Leave-One-Out  Random Forest  1.000000\n",
            "7             Leave-One-Out        XGBoost  0.993671\n",
            "8             Leave-One-Out            SVM  0.791139\n"
          ]
        },
        {
          "output_type": "display_data",
          "data": {
            "text/plain": [
              "<Figure size 1400x800 with 1 Axes>"
            ],
            "image/png": "[encoded data removed]"
          },
          "metadata": {}
        }
      ]
    },
    {
      "cell_type": "code",
      "source": [
        "import pandas as pd\n",
        "from tabulate import tabulate\n",
        "\n",
        "# Data\n",
        "data = {\n",
        "    \"Cross-Validation Method\": [\n",
        "        \"Stratified K-Fold\", \"Stratified K-Fold\", \"Stratified K-Fold\",\n",
        "        \"Stratified Shuffle Split\", \"Stratified Shuffle Split\", \"Stratified Shuffle Split\",\n",
        "        \"Leave-One-Out\", \"Leave-One-Out\", \"Leave-One-Out\"\n",
        "    ],\n",
        "    \"Model\": [\n",
        "        \"Random Forest\", \"XGBoost\", \"SVM\",\n",
        "        \"Random Forest\", \"XGBoost\", \"SVM\",\n",
        "        \"Random Forest\", \"XGBoost\", \"SVM\"\n",
        "    ],\n",
        "    \"Accuracy\": [\n",
        "        0.993750, 0.856250, 0.941935,\n",
        "        1.000000, 0.975000, 0.793750,\n",
        "        1.000000, 0.993671, 0.791139\n",
        "    ]\n",
        "}\n",
        "\n",
        "# Create DataFrame\n",
        "df = pd.DataFrame(data)\n",
        "\n",
        "# Display Table\n",
        "print(tabulate(df, headers='keys', tablefmt='pretty'))\n"
      ],
      "metadata": {
        "colab": {
          "base_uri": "https://localhost:8080/"
        },
        "id": "DMwb5SXVRqD9",
        "outputId": "aa4716ba-cceb-4882-9af5-ca64656b7a04"
      },
      "execution_count": null,
      "outputs": [
        {
          "output_type": "stream",
          "name": "stdout",
          "text": [
            "+---+--------------------------+---------------+----------+\n",
            "|   | Cross-Validation Method  |     Model     | Accuracy |\n",
            "+---+--------------------------+---------------+----------+\n",
            "| 0 |    Stratified K-Fold     | Random Forest | 0.99375  |\n",
            "| 1 |    Stratified K-Fold     |    XGBoost    | 0.85625  |\n",
            "| 2 |    Stratified K-Fold     |      SVM      | 0.941935 |\n",
            "| 3 | Stratified Shuffle Split | Random Forest |   1.0    |\n",
            "| 4 | Stratified Shuffle Split |    XGBoost    |  0.975   |\n",
            "| 5 | Stratified Shuffle Split |      SVM      | 0.79375  |\n",
            "| 6 |      Leave-One-Out       | Random Forest |   1.0    |\n",
            "| 7 |      Leave-One-Out       |    XGBoost    | 0.993671 |\n",
            "| 8 |      Leave-One-Out       |      SVM      | 0.791139 |\n",
            "+---+--------------------------+---------------+----------+\n"
          ]
        }
      ]
    },
    {
      "cell_type": "code",
      "source": [
        "import pandas as pd\n",
        "import seaborn as sns\n",
        "import matplotlib.pyplot as plt\n",
        "\n",
        "# Data\n",
        "data = {\n",
        "    \"Cross-Validation Method\": [\n",
        "        \"Stratified K-Fold\", \"Stratified K-Fold\", \"Stratified K-Fold\",\n",
        "        \"Stratified Shuffle Split\", \"Stratified Shuffle Split\", \"Stratified Shuffle Split\",\n",
        "        \"Leave-One-Out\", \"Leave-One-Out\", \"Leave-One-Out\"\n",
        "    ],\n",
        "    \"Model\": [\n",
        "        \"Random Forest\", \"XGBoost\", \"SVM\",\n",
        "        \"Random Forest\", \"XGBoost\", \"SVM\",\n",
        "        \"Random Forest\", \"XGBoost\", \"SVM\"\n",
        "    ],\n",
        "    \"Accuracy\": [\n",
        "        0.993750, 0.856250, 0.941935,\n",
        "        1.000000, 0.975000, 0.793750,\n",
        "        1.000000, 0.993671, 0.791139\n",
        "    ]\n",
        "}\n",
        "\n",
        "# Create DataFrame\n",
        "df = pd.DataFrame(data)\n",
        "\n",
        "# Pivot the DataFrame\n",
        "pivot_df = df.pivot(index=\"Cross-Validation Method\", columns=\"Model\", values=\"Accuracy\")\n",
        "\n",
        "# Plotting\n",
        "plt.figure(figsize=(10, 6))\n",
        "sns.heatmap(pivot_df, annot=True, cmap=\"YlGnBu\", fmt=\".6f\", linewidths=.5)\n",
        "plt.title('Model Accuracies Across Different Cross-Validation Methods')\n",
        "plt.show()\n"
      ],
      "metadata": {
        "colab": {
          "base_uri": "https://localhost:8080/",
          "height": 564
        },
        "id": "mv9BfvqOR1ZW",
        "outputId": "e0eaeabe-8b7e-4b63-932c-a1c7a87ec65e"
      },
      "execution_count": null,
      "outputs": [
        {
          "output_type": "display_data",
          "data": {
            "text/plain": [
              "<Figure size 1000x600 with 2 Axes>"
            ],
            "image/png": "[encoded data removed]"
          },
          "metadata": {}
        }
      ]
    },
    {
      "cell_type": "code",
      "source": [],
      "metadata": {
        "id": "Cd9iikwip-kO"
      },
      "execution_count": null,
      "outputs": []
    },
    {
      "cell_type": "code",
      "source": [
        "import pickle\n",
        "from google.colab import drive\n",
        "\n",
        "# Mount your Google Drive\n",
        "drive.mount('/content/drive')\n",
        "\n",
        "# Assuming rf_model is your trained Random Forest model\n",
        "# Replace 'My Drive/folder_name/' with the actual path in your Drive\n",
        "with open('/content/drive/My Drive/random_forest_model', 'wb') as f:\n",
        "    pickle.dump(model_rf, f)"
      ],
      "metadata": {
        "colab": {
          "base_uri": "https://localhost:8080/"
        },
        "id": "DDWkOEWLTUTL",
        "outputId": "943f9ea0-bf8c-4436-a506-4d28f9432257"
      },
      "execution_count": null,
      "outputs": [
        {
          "output_type": "stream",
          "name": "stdout",
          "text": [
            "Mounted at /content/drive\n"
          ]
        }
      ]
    },
    {
      "cell_type": "code",
      "source": [
        "import joblib\n",
        "\n",
        "# Define the path where you want to save the model in Google Drive\n",
        "model_path = '/content/drive/My Drive/finalrandom_forest_model.pkl'\n",
        "\n",
        "# Save the trained model\n",
        "joblib.dump(model_rf, model_path)\n"
      ],
      "metadata": {
        "id": "LuM1QA53f_t9",
        "outputId": "bbc9675b-b06a-4169-e739-7f6318e7eb57",
        "colab": {
          "base_uri": "https://localhost:8080/"
        }
      },
      "execution_count": null,
      "outputs": [
        {
          "output_type": "execute_result",
          "data": {
            "text/plain": [
              "['/content/drive/My Drive/finalrandom_forest_model.pkl']"
            ]
          },
          "metadata": {},
          "execution_count": 25
        }
      ]
    },
    {
      "cell_type": "code",
      "source": [
        "import numpy as np\n",
        "import pandas as pd\n",
        "import matplotlib.pyplot as plt\n",
        "from dateutil import tz\n",
        "from sklearn.model_selection import cross_val_score, train_test_split, GridSearchCV, KFold, StratifiedKFold, LeaveOneOut, StratifiedShuffleSplit\n",
        "from sklearn.ensemble import RandomForestClassifier\n",
        "from xgboost import XGBClassifier\n",
        "from sklearn.svm import SVC\n",
        "from sklearn.metrics import classification_report, accuracy_score, f1_score, precision_score, confusion_matrix, roc_curve, auc\n",
        "from sklearn.feature_selection import SelectKBest, f_classif\n",
        "from sklearn.preprocessing import LabelEncoder\n",
        "\n",
        "# Download the dataset\n",
        "!wget -O kidney_disease.csv \"https://www.dropbox.com/scl/fi/e2y5m0h9qbr9sni6f2wdm/kidney_disease.csv?rlkey=ejadxsf7xnn5hzabo604a30k3&dl=0\"\n",
        "\n",
        "# Read the CSV file\n",
        "df = pd.read_csv('kidney_disease.csv')\n",
        "\n",
        "# Data preprocessing\n",
        "df.dropna(inplace=True)\n",
        "df.rename(columns=lambda x: x.strip().replace(' ', '_'), inplace=True)\n",
        "df = df.astype({col: float for col in df.select_dtypes(include='object').columns if col not in ['classification', 'rbc', 'pc', 'pcc', 'ba', 'htn', 'dm', 'cad', 'appet', 'pe', 'ane']})\n",
        "\n",
        "# Display dataset\n",
        "print(df.head())\n",
        "\n",
        "# One-hot encoding of categorical features\n",
        "categorical_features = ['rbc', 'pc', 'pcc', 'ba', 'htn', 'dm', 'cad', 'appet', 'pe', 'ane']\n",
        "df_encoded = pd.get_dummies(df, columns=categorical_features)\n",
        "\n",
        "# Feature selection using ANOVA F-value\n",
        "num_features_to_select = 10\n",
        "selector = SelectKBest(score_func=f_classif, k=num_features_to_select)\n",
        "X_new = selector.fit_transform(df_encoded.drop(columns=['classification']), df_encoded['classification'])\n",
        "selected_indices = selector.get_support(indices=True)\n",
        "selected_features = df_encoded.drop(columns=['classification']).columns[selected_indices]\n",
        "\n",
        "# Split dataset\n",
        "X = X_new\n",
        "y = df_encoded['classification']\n",
        "X_train, X_test, y_train, y_test = train_test_split(X, y, test_size=0.2, random_state=42)\n",
        "\n",
        "# Encode target classes into numeric values\n",
        "label_encoder = LabelEncoder()\n",
        "y_train_encoded = label_encoder.fit_transform(y_train)\n",
        "y_test_encoded = label_encoder.transform(y_test)\n",
        "\n",
        "# Model initialization\n",
        "model_rf = RandomForestClassifier()\n",
        "model_xgb = XGBClassifier()\n",
        "model_svm = SVC(probability=True)\n",
        "\n",
        "# Train models\n",
        "model_rf.fit(X_train, y_train_encoded)\n",
        "model_xgb.fit(X_train, y_train_encoded)\n",
        "model_svm.fit(X_train, y_train_encoded)\n",
        "\n",
        "# Predictions\n",
        "y_pred_rf = model_rf.predict(X_test)\n",
        "y_pred_xgb = model_xgb.predict(X_test)\n",
        "y_pred_svm = model_svm.predict(X_test)\n",
        "\n",
        "# Calculate accuracies\n",
        "accuracy_rf = accuracy_score(y_test_encoded, y_pred_rf)\n",
        "accuracy_xgb = accuracy_score(y_test_encoded, y_pred_xgb)\n",
        "accuracy_svm = accuracy_score(y_test_encoded, y_pred_svm)\n",
        "\n",
        "# Display accuracies\n",
        "print(\"Random Forest Accuracy:\", accuracy_rf)\n",
        "print(\"XGBoost Accuracy:\", accuracy_xgb)\n",
        "print(\"SVM Accuracy:\", accuracy_svm)\n",
        "\n",
        "# Calculate F1-score and precision for each model\n",
        "f1_rf = f1_score(y_test_encoded, y_pred_rf, average='weighted')\n",
        "f1_xgb = f1_score(y_test_encoded, y_pred_xgb, average='weighted')\n",
        "f1_svm = f1_score(y_test_encoded, y_pred_svm, average='weighted')\n",
        "\n",
        "precision_rf = precision_score(y_test_encoded, y_pred_rf, average='weighted')\n",
        "precision_xgb = precision_score(y_test_encoded, y_pred_xgb, average='weighted')\n",
        "precision_svm = precision_score(y_test_encoded, y_pred_svm, average='weighted')\n",
        "\n",
        "# Display F1-score and precision\n",
        "print(\"Random Forest F1-score:\", f1_rf)\n",
        "print(\"XGBoost F1-score:\", f1_xgb)\n",
        "print(\"SVM F1-score:\", f1_svm)\n",
        "print(\"Random Forest Precision:\", precision_rf)\n",
        "print(\"XGBoost Precision:\", precision_xgb)\n",
        "print(\"SVM Precision:\", precision_svm)\n",
        "\n",
        "# Cross-validation\n",
        "cv = 5\n",
        "kf = KFold(n_splits=cv, shuffle=True, random_state=42)\n",
        "skf = StratifiedKFold(n_splits=cv, shuffle=True, random_state=42)\n",
        "loo = LeaveOneOut()\n",
        "sss = StratifiedShuffleSplit(n_splits=cv, test_size=0.2, random_state=42)\n",
        "\n",
        "# Perform cross-validation using K-Fold\n",
        "cv_scores_rf = cross_val_score(model_rf, X, y_encoded, cv=kf)\n",
        "cv_scores_xgb = cross_val_score(model_xgb, X, y_encoded, cv=kf)\n",
        "cv_scores_svm = cross_val_score(model_svm, X, y_encoded, cv=kf)\n",
        "\n",
        "# Calculate mean accuracy for K-Fold\n",
        "mean_accuracy_rf = cv_scores_rf.mean()\n",
        "mean_accuracy_xgb = cv_scores_xgb.mean()\n",
        "mean_accuracy_svm = cv_scores_svm.mean()\n",
        "\n",
        "print(\"K-Fold Cross-Validation Scores - Random Forest:\", cv_scores_rf)\n",
        "print(\"Mean Accuracy (Random Forest):\", mean_accuracy_rf)\n",
        "print(\"K-Fold Cross-Validation Scores - XGBoost:\", cv_scores_xgb)\n",
        "print(\"Mean Accuracy (XGBoost):\", mean_accuracy_xgb)\n",
        "print(\"K-Fold Cross-Validation Scores - SVM:\", cv_scores_svm)\n",
        "print(\"Mean Accuracy (SVM):\", mean_accuracy_svm)\n",
        "\n",
        "# Perform cross-validation using Stratified K-Fold\n",
        "cv_scores_rf_skf = cross_val_score(model_rf, X, y_encoded, cv=skf)\n",
        "cv_scores_xgb_skf = cross_val_score(model_xgb, X, y_encoded, cv=skf)\n",
        "cv_scores_svm_skf = cross_val_score(model_svm, X, y_encoded, cv=skf)\n",
        "\n",
        "# Calculate mean accuracy for Stratified K-Fold\n",
        "mean_accuracy_rf_skf = cv_scores_rf_skf.mean()\n",
        "mean_accuracy_xgb_skf = cv_scores_xgb_skf.mean()\n",
        "mean_accuracy_svm_skf = cv_scores_svm_skf.mean()\n",
        "\n",
        "print(\"Stratified K-Fold Cross-Validation Scores - Random Forest:\", cv_scores_rf_skf)\n",
        "print(\"Mean Accuracy (Random Forest):\", mean_accuracy_rf_skf)\n",
        "print(\"Stratified K-Fold Cross-Validation Scores - XGBoost:\", cv_scores_xgb_skf)\n",
        "print(\"Mean Accuracy (XGBoost):\", mean_accuracy_xgb_skf)\n",
        "print(\"Stratified K-Fold Cross-Validation Scores - SVM:\", cv_scores_svm_skf)\n",
        "print(\"Mean Accuracy (SVM):\", mean_accuracy_svm_skf)\n",
        "\n",
        "# Perform cross-validation using Leave-One-Out\n",
        "cv_scores_rf_loo = cross_val_score(model_rf, X, y_encoded, cv=loo)\n",
        "cv_scores_xgb_loo = cross_val_score(model_xgb, X, y_encoded, cv=loo)\n",
        "cv_scores_svm_loo = cross_val_score(model_svm, X, y_encoded, cv=loo)\n",
        "\n",
        "# Calculate mean accuracy for Leave-One-Out\n",
        "mean_accuracy_rf_loo = cv_scores_rf_loo.mean()\n",
        "mean_accuracy_xgb_loo = cv_scores_xgb_loo.mean()\n",
        "mean_accuracy_svm_loo = cv_scores_svm_loo.mean()\n",
        "\n",
        "print(\"Leave-One-Out Cross-Validation Scores - Random Forest:\", cv_scores_rf_loo)\n",
        "print(\"Mean Accuracy (Random Forest):\", mean_accuracy_rf_loo)\n",
        "print(\"Leave-One-Out Cross-Validation Scores - XGBoost:\", cv_scores_xgb_loo)\n",
        "print(\"Mean Accuracy (XGBoost):\", mean_accuracy_xgb_loo)\n",
        "print(\"Leave-One-Out Cross-Validation Scores - SVM:\", cv_scores_svm_loo)\n",
        "print(\"Mean Accuracy (SVM):\", mean_accuracy_svm_loo)\n",
        "\n",
        "# Perform cross-validation using Stratified Shuffle Split\n",
        "cv_scores_rf_sss = cross_val_score(model_rf, X, y_encoded, cv=sss)\n",
        "cv_scores_xgb_sss = cross_val_score(model_xgb, X, y_encoded, cv=sss)\n",
        "cv_scores_svm_sss = cross_val_score(model_svm, X, y_encoded, cv=sss)\n",
        "\n",
        "# Calculate mean accuracy for Stratified Shuffle Split\n",
        "mean_accuracy_rf_sss = cv_scores_rf_sss.mean()\n",
        "mean_accuracy_xgb_sss = cv_scores_xgb_sss.mean()\n",
        "mean_accuracy_svm_sss = cv_scores_svm_sss.mean()\n",
        "\n",
        "print(\"Stratified Shuffle Split Cross-Validation Scores - Random Forest:\", cv_scores_rf_sss)\n",
        "print(\"Mean Accuracy (Random Forest):\", mean_accuracy_rf_sss)\n",
        "print(\"Stratified Shuffle Split Cross-Validation Scores - XGBoost:\", cv_scores_xgb_sss)\n",
        "print(\"Mean Accuracy (XGBoost):\", mean_accuracy_xgb_sss)\n",
        "print(\"Stratified Shuffle Split Cross-Validation Scores - SVM:\", cv_scores_svm_sss)\n",
        "print(\"Mean Accuracy (SVM):\", mean_accuracy_svm_sss)\n",
        "\n",
        "# Hyperparameter tuning\n",
        "param_grid_rf = {\n",
        "    'n_estimators': [100, 200, 300],\n",
        "    'max_depth': [None, 10, 20],\n",
        "    'min_samples_split': [2, 5, 10],\n",
        "    'min_samples_leaf': [1, 2, 4]\n",
        "}\n",
        "param_grid_xgb = {\n",
        "    'learning_rate': [0.01, 0.1, 0.2],\n",
        "    'max_depth': [3, 6, 9],\n",
        "    'n_estimators': [100, 200, 300]\n",
        "}\n",
        "param_grid_svm = {\n",
        "    'C': [0.1, 1, 10],\n",
        "    'gamma': [1, 0.1, 0.01],\n",
        "    'kernel': ['linear', 'rbf']\n",
        "}\n",
        "\n",
        "# GridSearchCV for RandomForest\n",
        "grid_search_rf = GridSearchCV(estimator=model_rf, param_grid=param_grid_rf, cv=3, n_jobs=-1, verbose=2)\n",
        "grid_search_rf.fit(X_train, y_train_encoded)\n",
        "print(\"Best parameters for RandomForest:\", grid_search_rf.best_params_)\n",
        "print(\"Best cross-validation score for RandomForest:\", grid_search_rf.best_score_)\n",
        "\n",
        "# GridSearchCV for XGBoost\n",
        "grid_search_xgb = GridSearchCV(estimator=model_xgb, param_grid=param_grid_xgb, cv=3, n_jobs=-1, verbose=2)\n",
        "grid_search_xgb.fit(X_train, y_train_encoded)\n",
        "print(\"Best parameters for XGBoost:\", grid_search_xgb.best_params_)\n",
        "print(\"Best cross-validation score for XGBoost:\", grid_search_xgb.best_score_)\n",
        "\n",
        "# GridSearchCV for SVM\n",
        "grid_search_svm = GridSearchCV(estimator=model_svm, param_grid=param_grid_svm, cv=3, n_jobs=-1, verbose=2)\n",
        "grid_search_svm.fit(X_train, y_train_encoded)\n",
        "print(\"Best parameters for SVM:\", grid_search_svm.best_params_)\n",
        "print(\"Best cross-validation score for SVM:\", grid_search_svm.best_score_)\n"
      ],
      "metadata": {
        "colab": {
          "base_uri": "https://localhost:8080/",
          "height": 1000
        },
        "id": "JY1CYsCyqtOV",
        "outputId": "dc66481b-e2f8-4538-a714-15622c2f71af"
      },
      "execution_count": null,
      "outputs": [
        {
          "output_type": "stream",
          "name": "stdout",
          "text": [
            "--2024-07-20 00:15:19--  https://www.dropbox.com/scl/fi/e2y5m0h9qbr9sni6f2wdm/kidney_disease.csv?rlkey=ejadxsf7xnn5hzabo604a30k3&dl=0\n",
            "Resolving www.dropbox.com (www.dropbox.com)... 162.125.13.18, 2620:100:601d:18::a27d:512\n",
            "Connecting to www.dropbox.com (www.dropbox.com)|162.125.13.18|:443... connected.\n",
            "HTTP request sent, awaiting response... 302 Found\n",
            "Location: https://uc7077a585d65fc0073400bc7f95.dl.dropboxusercontent.com/cd/0/inline/CXCvWeCgNwRUc5jkXp-r3S6uaz8meST0pEDlfNJDF5DmhMMcQ2f--U5dTx_gibd6EyGas4abbF7BRYlkwt9B4uzrpEDdJgcfWWOFc9vVaQdW_f0YxSDLnV1xaswWCTsjuTQnH4YKvm6Jto4tsAw0M2or/file# [following]\n",
            "--2024-07-20 00:15:20--  https://uc7077a585d65fc0073400bc7f95.dl.dropboxusercontent.com/cd/0/inline/CXCvWeCgNwRUc5jkXp-r3S6uaz8meST0pEDlfNJDF5DmhMMcQ2f--U5dTx_gibd6EyGas4abbF7BRYlkwt9B4uzrpEDdJgcfWWOFc9vVaQdW_f0YxSDLnV1xaswWCTsjuTQnH4YKvm6Jto4tsAw0M2or/file\n",
            "Resolving uc7077a585d65fc0073400bc7f95.dl.dropboxusercontent.com (uc7077a585d65fc0073400bc7f95.dl.dropboxusercontent.com)... 162.125.5.15, 2620:100:601d:15::a27d:50f\n",
            "Connecting to uc7077a585d65fc0073400bc7f95.dl.dropboxusercontent.com (uc7077a585d65fc0073400bc7f95.dl.dropboxusercontent.com)|162.125.5.15|:443... connected.\n",
            "HTTP request sent, awaiting response... 200 OK\n",
            "Length: 48551 (47K) [text/plain]\n",
            "Saving to: ‘kidney_disease.csv’\n",
            "\n",
            "kidney_disease.csv  100%[===================>]  47.41K  --.-KB/s    in 0.03s   \n",
            "\n",
            "2024-07-20 00:15:20 (1.34 MB/s) - ‘kidney_disease.csv’ saved [48551/48551]\n",
            "\n",
            "    id   age    bp     sg   al   su       rbc        pc         pcc          ba    bgr     bu   sc    sod  pot  hemo   pcv       wc   rc  htn   dm  cad appet   pe  ane classification\n",
            "3    3  48.0  70.0  1.005  4.0  0.0    normal  abnormal     present  notpresent  117.0   56.0  3.8  111.0  2.5  11.2  32.0   6700.0  3.9  yes   no   no  poor  yes  yes            ckd\n",
            "9    9  53.0  90.0  1.020  2.0  0.0  abnormal  abnormal     present  notpresent   70.0  107.0  7.2  114.0  3.7   9.5  29.0  12100.0  3.7  yes  yes   no  poor   no  yes            ckd\n",
            "11  11  63.0  70.0  1.010  3.0  0.0  abnormal  abnormal     present  notpresent  380.0   60.0  2.7  131.0  4.2  10.8  32.0   4500.0  3.8  yes  yes   no  poor  yes   no            ckd\n",
            "14  14  68.0  80.0  1.010  3.0  2.0    normal  abnormal     present     present  157.0   90.0  4.1  130.0  6.4   5.6  16.0  11000.0  2.6  yes  yes  yes  poor  yes   no            ckd\n",
            "20  20  61.0  80.0  1.015  2.0  0.0  abnormal  abnormal  notpresent  notpresent  173.0  148.0  3.9  135.0  5.2   7.7  24.0   9200.0  3.2  yes  yes  yes  poor  yes  yes            ckd\n",
            "Random Forest Accuracy: 1.0\n",
            "XGBoost Accuracy: 1.0\n",
            "SVM Accuracy: 1.0\n",
            "Random Forest F1-score: 1.0\n",
            "XGBoost F1-score: 1.0\n",
            "SVM F1-score: 1.0\n",
            "Random Forest Precision: 1.0\n",
            "XGBoost Precision: 1.0\n",
            "SVM Precision: 1.0\n",
            "K-Fold Cross-Validation Scores - Random Forest: [1. 1. 1. 1. 1.]\n",
            "Mean Accuracy (Random Forest): 1.0\n",
            "K-Fold Cross-Validation Scores - XGBoost: [1.         1.         1.         0.96774194 1.        ]\n",
            "Mean Accuracy (XGBoost): 0.9935483870967742\n",
            "K-Fold Cross-Validation Scores - SVM: [1.         0.90625    0.9375     0.96774194 1.        ]\n",
            "Mean Accuracy (SVM): 0.9622983870967742\n",
            "Stratified K-Fold Cross-Validation Scores - Random Forest: [1. 1. 1. 1. 1.]\n",
            "Mean Accuracy (Random Forest): 1.0\n",
            "Stratified K-Fold Cross-Validation Scores - XGBoost: [1.         1.         1.         0.96774194 1.        ]\n",
            "Mean Accuracy (XGBoost): 0.9935483870967742\n",
            "Stratified K-Fold Cross-Validation Scores - SVM: [0.96875    0.96875    0.90625    0.96774194 0.96774194]\n",
            "Mean Accuracy (SVM): 0.9558467741935484\n",
            "Leave-One-Out Cross-Validation Scores - Random Forest: [1. 1. 1. 1. 1. 1. 1. 1. 1. 1. 1. 1. 1. 1. 1. 1. 1. 1. 1. 1. 1. 1. 1. 1.\n",
            " 1. 1. 1. 1. 1. 1. 1. 1. 1. 1. 1. 1. 1. 1. 1. 1. 1. 1. 1. 1. 1. 1. 1. 1.\n",
            " 1. 1. 1. 1. 1. 1. 1. 1. 1. 1. 1. 1. 1. 1. 1. 1. 1. 1. 1. 1. 1. 1. 1. 1.\n",
            " 1. 1. 1. 1. 1. 1. 1. 1. 1. 1. 1. 1. 1. 1. 1. 1. 1. 1. 1. 1. 1. 1. 1. 1.\n",
            " 1. 1. 1. 1. 1. 1. 1. 1. 1. 1. 1. 1. 1. 1. 1. 1. 1. 1. 1. 1. 1. 1. 1. 1.\n",
            " 1. 1. 1. 1. 1. 1. 1. 1. 1. 1. 1. 1. 1. 1. 1. 1. 1. 1. 1. 1. 1. 1. 1. 1.\n",
            " 1. 1. 1. 1. 1. 1. 1. 1. 1. 1. 1. 1. 1. 1.]\n",
            "Mean Accuracy (Random Forest): 1.0\n",
            "Leave-One-Out Cross-Validation Scores - XGBoost: [1. 1. 1. 1. 1. 1. 1. 1. 1. 1. 1. 1. 1. 1. 1. 1. 1. 1. 1. 1. 1. 1. 1. 1.\n",
            " 1. 1. 1. 1. 1. 1. 1. 1. 1. 1. 1. 1. 1. 1. 1. 1. 1. 1. 1. 0. 1. 1. 1. 1.\n",
            " 1. 1. 1. 1. 1. 1. 1. 1. 1. 1. 1. 1. 1. 1. 1. 1. 1. 1. 1. 1. 1. 1. 1. 1.\n",
            " 1. 1. 1. 1. 1. 1. 1. 1. 1. 1. 1. 1. 1. 1. 1. 1. 1. 1. 1. 1. 1. 1. 1. 1.\n",
            " 1. 1. 1. 1. 1. 1. 1. 1. 1. 1. 1. 1. 1. 1. 1. 1. 1. 1. 1. 1. 1. 1. 1. 1.\n",
            " 1. 1. 1. 1. 1. 1. 1. 1. 1. 1. 1. 1. 1. 1. 1. 1. 1. 1. 1. 1. 1. 1. 1. 1.\n",
            " 1. 1. 1. 1. 1. 1. 1. 1. 1. 1. 1. 1. 1. 1.]\n",
            "Mean Accuracy (XGBoost): 0.9936708860759493\n",
            "Leave-One-Out Cross-Validation Scores - SVM: [1. 1. 1. 1. 1. 1. 1. 1. 1. 1. 1. 1. 1. 1. 1. 1. 1. 1. 1. 1. 1. 1. 1. 1.\n",
            " 1. 1. 1. 1. 1. 1. 1. 1. 1. 1. 1. 1. 0. 0. 0. 0. 0. 0. 0. 1. 1. 1. 1. 1.\n",
            " 1. 1. 1. 1. 1. 1. 1. 1. 1. 1. 1. 1. 1. 1. 1. 1. 1. 1. 1. 1. 1. 1. 1. 1.\n",
            " 1. 1. 1. 1. 1. 1. 1. 1. 1. 1. 1. 1. 1. 1. 1. 1. 1. 1. 1. 1. 1. 1. 1. 1.\n",
            " 1. 1. 1. 1. 1. 1. 1. 1. 1. 1. 1. 1. 1. 1. 1. 1. 1. 1. 1. 1. 1. 1. 1. 1.\n",
            " 1. 1. 1. 1. 1. 1. 1. 1. 1. 1. 1. 1. 1. 1. 1. 1. 1. 1. 1. 1. 1. 1. 1. 1.\n",
            " 1. 1. 1. 1. 1. 1. 1. 1. 1. 1. 1. 1. 1. 1.]\n",
            "Mean Accuracy (SVM): 0.9556962025316456\n",
            "Stratified Shuffle Split Cross-Validation Scores - Random Forest: [1. 1. 1. 1. 1.]\n",
            "Mean Accuracy (Random Forest): 1.0\n",
            "Stratified Shuffle Split Cross-Validation Scores - XGBoost: [1.      1.      0.96875 0.96875 0.9375 ]\n",
            "Mean Accuracy (XGBoost): 0.975\n",
            "Stratified Shuffle Split Cross-Validation Scores - SVM: [0.96875 0.90625 0.9375  0.90625 0.9375 ]\n",
            "Mean Accuracy (SVM): 0.93125\n",
            "Fitting 3 folds for each of 81 candidates, totalling 243 fits\n"
          ]
        },
        {
          "output_type": "error",
          "ename": "KeyboardInterrupt",
          "evalue": "",
          "traceback": [
            "\u001b[0;31m---------------------------------------------------------------------------\u001b[0m",
            "\u001b[0;31mKeyboardInterrupt\u001b[0m                         Traceback (most recent call last)",
            "\u001b[0;32m<ipython-input-24-ec74e42f23a9>\u001b[0m in \u001b[0;36m<cell line: 185>\u001b[0;34m()\u001b[0m\n\u001b[1;32m    183\u001b[0m \u001b[0;31m# GridSearchCV for RandomForest\u001b[0m\u001b[0;34m\u001b[0m\u001b[0;34m\u001b[0m\u001b[0m\n\u001b[1;32m    184\u001b[0m \u001b[0mgrid_search_rf\u001b[0m \u001b[0;34m=\u001b[0m \u001b[0mGridSearchCV\u001b[0m\u001b[0;34m(\u001b[0m\u001b[0mestimator\u001b[0m\u001b[0;34m=\u001b[0m\u001b[0mmodel_rf\u001b[0m\u001b[0;34m,\u001b[0m \u001b[0mparam_grid\u001b[0m\u001b[0;34m=\u001b[0m\u001b[0mparam_grid_rf\u001b[0m\u001b[0;34m,\u001b[0m \u001b[0mcv\u001b[0m\u001b[0;34m=\u001b[0m\u001b[0;36m3\u001b[0m\u001b[0;34m,\u001b[0m \u001b[0mn_jobs\u001b[0m\u001b[0;34m=\u001b[0m\u001b[0;34m-\u001b[0m\u001b[0;36m1\u001b[0m\u001b[0;34m,\u001b[0m \u001b[0mverbose\u001b[0m\u001b[0;34m=\u001b[0m\u001b[0;36m2\u001b[0m\u001b[0;34m)\u001b[0m\u001b[0;34m\u001b[0m\u001b[0;34m\u001b[0m\u001b[0m\n\u001b[0;32m--> 185\u001b[0;31m \u001b[0mgrid_search_rf\u001b[0m\u001b[0;34m.\u001b[0m\u001b[0mfit\u001b[0m\u001b[0;34m(\u001b[0m\u001b[0mX_train\u001b[0m\u001b[0;34m,\u001b[0m \u001b[0my_train_encoded\u001b[0m\u001b[0;34m)\u001b[0m\u001b[0;34m\u001b[0m\u001b[0;34m\u001b[0m\u001b[0m\n\u001b[0m\u001b[1;32m    186\u001b[0m \u001b[0mprint\u001b[0m\u001b[0;34m(\u001b[0m\u001b[0;34m\"Best parameters for RandomForest:\"\u001b[0m\u001b[0;34m,\u001b[0m \u001b[0mgrid_search_rf\u001b[0m\u001b[0;34m.\u001b[0m\u001b[0mbest_params_\u001b[0m\u001b[0;34m)\u001b[0m\u001b[0;34m\u001b[0m\u001b[0;34m\u001b[0m\u001b[0m\n\u001b[1;32m    187\u001b[0m \u001b[0mprint\u001b[0m\u001b[0;34m(\u001b[0m\u001b[0;34m\"Best cross-validation score for RandomForest:\"\u001b[0m\u001b[0;34m,\u001b[0m \u001b[0mgrid_search_rf\u001b[0m\u001b[0;34m.\u001b[0m\u001b[0mbest_score_\u001b[0m\u001b[0;34m)\u001b[0m\u001b[0;34m\u001b[0m\u001b[0;34m\u001b[0m\u001b[0m\n",
            "\u001b[0;32m/usr/local/lib/python3.10/dist-packages/sklearn/model_selection/_search.py\u001b[0m in \u001b[0;36mfit\u001b[0;34m(self, X, y, groups, **fit_params)\u001b[0m\n\u001b[1;32m    872\u001b[0m                 \u001b[0;32mreturn\u001b[0m \u001b[0mresults\u001b[0m\u001b[0;34m\u001b[0m\u001b[0;34m\u001b[0m\u001b[0m\n\u001b[1;32m    873\u001b[0m \u001b[0;34m\u001b[0m\u001b[0m\n\u001b[0;32m--> 874\u001b[0;31m             \u001b[0mself\u001b[0m\u001b[0;34m.\u001b[0m\u001b[0m_run_search\u001b[0m\u001b[0;34m(\u001b[0m\u001b[0mevaluate_candidates\u001b[0m\u001b[0;34m)\u001b[0m\u001b[0;34m\u001b[0m\u001b[0;34m\u001b[0m\u001b[0m\n\u001b[0m\u001b[1;32m    875\u001b[0m \u001b[0;34m\u001b[0m\u001b[0m\n\u001b[1;32m    876\u001b[0m             \u001b[0;31m# multimetric is determined here because in the case of a callable\u001b[0m\u001b[0;34m\u001b[0m\u001b[0;34m\u001b[0m\u001b[0m\n",
            "\u001b[0;32m/usr/local/lib/python3.10/dist-packages/sklearn/model_selection/_search.py\u001b[0m in \u001b[0;36m_run_search\u001b[0;34m(self, evaluate_candidates)\u001b[0m\n\u001b[1;32m   1386\u001b[0m     \u001b[0;32mdef\u001b[0m \u001b[0m_run_search\u001b[0m\u001b[0;34m(\u001b[0m\u001b[0mself\u001b[0m\u001b[0;34m,\u001b[0m \u001b[0mevaluate_candidates\u001b[0m\u001b[0;34m)\u001b[0m\u001b[0;34m:\u001b[0m\u001b[0;34m\u001b[0m\u001b[0;34m\u001b[0m\u001b[0m\n\u001b[1;32m   1387\u001b[0m         \u001b[0;34m\"\"\"Search all candidates in param_grid\"\"\"\u001b[0m\u001b[0;34m\u001b[0m\u001b[0;34m\u001b[0m\u001b[0m\n\u001b[0;32m-> 1388\u001b[0;31m         \u001b[0mevaluate_candidates\u001b[0m\u001b[0;34m(\u001b[0m\u001b[0mParameterGrid\u001b[0m\u001b[0;34m(\u001b[0m\u001b[0mself\u001b[0m\u001b[0;34m.\u001b[0m\u001b[0mparam_grid\u001b[0m\u001b[0;34m)\u001b[0m\u001b[0;34m)\u001b[0m\u001b[0;34m\u001b[0m\u001b[0;34m\u001b[0m\u001b[0m\n\u001b[0m\u001b[1;32m   1389\u001b[0m \u001b[0;34m\u001b[0m\u001b[0m\n\u001b[1;32m   1390\u001b[0m \u001b[0;34m\u001b[0m\u001b[0m\n",
            "\u001b[0;32m/usr/local/lib/python3.10/dist-packages/sklearn/model_selection/_search.py\u001b[0m in \u001b[0;36mevaluate_candidates\u001b[0;34m(candidate_params, cv, more_results)\u001b[0m\n\u001b[1;32m    819\u001b[0m                     )\n\u001b[1;32m    820\u001b[0m \u001b[0;34m\u001b[0m\u001b[0m\n\u001b[0;32m--> 821\u001b[0;31m                 out = parallel(\n\u001b[0m\u001b[1;32m    822\u001b[0m                     delayed(_fit_and_score)(\n\u001b[1;32m    823\u001b[0m                         \u001b[0mclone\u001b[0m\u001b[0;34m(\u001b[0m\u001b[0mbase_estimator\u001b[0m\u001b[0;34m)\u001b[0m\u001b[0;34m,\u001b[0m\u001b[0;34m\u001b[0m\u001b[0;34m\u001b[0m\u001b[0m\n",
            "\u001b[0;32m/usr/local/lib/python3.10/dist-packages/sklearn/utils/parallel.py\u001b[0m in \u001b[0;36m__call__\u001b[0;34m(self, iterable)\u001b[0m\n\u001b[1;32m     61\u001b[0m             \u001b[0;32mfor\u001b[0m \u001b[0mdelayed_func\u001b[0m\u001b[0;34m,\u001b[0m \u001b[0margs\u001b[0m\u001b[0;34m,\u001b[0m \u001b[0mkwargs\u001b[0m \u001b[0;32min\u001b[0m \u001b[0miterable\u001b[0m\u001b[0;34m\u001b[0m\u001b[0;34m\u001b[0m\u001b[0m\n\u001b[1;32m     62\u001b[0m         )\n\u001b[0;32m---> 63\u001b[0;31m         \u001b[0;32mreturn\u001b[0m \u001b[0msuper\u001b[0m\u001b[0;34m(\u001b[0m\u001b[0;34m)\u001b[0m\u001b[0;34m.\u001b[0m\u001b[0m__call__\u001b[0m\u001b[0;34m(\u001b[0m\u001b[0miterable_with_config\u001b[0m\u001b[0;34m)\u001b[0m\u001b[0;34m\u001b[0m\u001b[0;34m\u001b[0m\u001b[0m\n\u001b[0m\u001b[1;32m     64\u001b[0m \u001b[0;34m\u001b[0m\u001b[0m\n\u001b[1;32m     65\u001b[0m \u001b[0;34m\u001b[0m\u001b[0m\n",
            "\u001b[0;32m/usr/local/lib/python3.10/dist-packages/joblib/parallel.py\u001b[0m in \u001b[0;36m__call__\u001b[0;34m(self, iterable)\u001b[0m\n\u001b[1;32m   2005\u001b[0m         \u001b[0mnext\u001b[0m\u001b[0;34m(\u001b[0m\u001b[0moutput\u001b[0m\u001b[0;34m)\u001b[0m\u001b[0;34m\u001b[0m\u001b[0;34m\u001b[0m\u001b[0m\n\u001b[1;32m   2006\u001b[0m \u001b[0;34m\u001b[0m\u001b[0m\n\u001b[0;32m-> 2007\u001b[0;31m         \u001b[0;32mreturn\u001b[0m \u001b[0moutput\u001b[0m \u001b[0;32mif\u001b[0m \u001b[0mself\u001b[0m\u001b[0;34m.\u001b[0m\u001b[0mreturn_generator\u001b[0m \u001b[0;32melse\u001b[0m \u001b[0mlist\u001b[0m\u001b[0;34m(\u001b[0m\u001b[0moutput\u001b[0m\u001b[0;34m)\u001b[0m\u001b[0;34m\u001b[0m\u001b[0;34m\u001b[0m\u001b[0m\n\u001b[0m\u001b[1;32m   2008\u001b[0m \u001b[0;34m\u001b[0m\u001b[0m\n\u001b[1;32m   2009\u001b[0m     \u001b[0;32mdef\u001b[0m \u001b[0m__repr__\u001b[0m\u001b[0;34m(\u001b[0m\u001b[0mself\u001b[0m\u001b[0;34m)\u001b[0m\u001b[0;34m:\u001b[0m\u001b[0;34m\u001b[0m\u001b[0;34m\u001b[0m\u001b[0m\n",
            "\u001b[0;32m/usr/local/lib/python3.10/dist-packages/joblib/parallel.py\u001b[0m in \u001b[0;36m_get_outputs\u001b[0;34m(self, iterator, pre_dispatch)\u001b[0m\n\u001b[1;32m   1648\u001b[0m \u001b[0;34m\u001b[0m\u001b[0m\n\u001b[1;32m   1649\u001b[0m             \u001b[0;32mwith\u001b[0m \u001b[0mself\u001b[0m\u001b[0;34m.\u001b[0m\u001b[0m_backend\u001b[0m\u001b[0;34m.\u001b[0m\u001b[0mretrieval_context\u001b[0m\u001b[0;34m(\u001b[0m\u001b[0;34m)\u001b[0m\u001b[0;34m:\u001b[0m\u001b[0;34m\u001b[0m\u001b[0;34m\u001b[0m\u001b[0m\n\u001b[0;32m-> 1650\u001b[0;31m                 \u001b[0;32myield\u001b[0m \u001b[0;32mfrom\u001b[0m \u001b[0mself\u001b[0m\u001b[0;34m.\u001b[0m\u001b[0m_retrieve\u001b[0m\u001b[0;34m(\u001b[0m\u001b[0;34m)\u001b[0m\u001b[0;34m\u001b[0m\u001b[0;34m\u001b[0m\u001b[0m\n\u001b[0m\u001b[1;32m   1651\u001b[0m \u001b[0;34m\u001b[0m\u001b[0m\n\u001b[1;32m   1652\u001b[0m         \u001b[0;32mexcept\u001b[0m \u001b[0mGeneratorExit\u001b[0m\u001b[0;34m:\u001b[0m\u001b[0;34m\u001b[0m\u001b[0;34m\u001b[0m\u001b[0m\n",
            "\u001b[0;32m/usr/local/lib/python3.10/dist-packages/joblib/parallel.py\u001b[0m in \u001b[0;36m_retrieve\u001b[0;34m(self)\u001b[0m\n\u001b[1;32m   1760\u001b[0m                 (self._jobs[0].get_status(\n\u001b[1;32m   1761\u001b[0m                     timeout=self.timeout) == TASK_PENDING)):\n\u001b[0;32m-> 1762\u001b[0;31m                 \u001b[0mtime\u001b[0m\u001b[0;34m.\u001b[0m\u001b[0msleep\u001b[0m\u001b[0;34m(\u001b[0m\u001b[0;36m0.01\u001b[0m\u001b[0;34m)\u001b[0m\u001b[0;34m\u001b[0m\u001b[0;34m\u001b[0m\u001b[0m\n\u001b[0m\u001b[1;32m   1763\u001b[0m                 \u001b[0;32mcontinue\u001b[0m\u001b[0;34m\u001b[0m\u001b[0;34m\u001b[0m\u001b[0m\n\u001b[1;32m   1764\u001b[0m \u001b[0;34m\u001b[0m\u001b[0m\n",
            "\u001b[0;31mKeyboardInterrupt\u001b[0m: "
          ]
        }
      ]
    },
    {
      "cell_type": "code",
      "source": [
        "accuracy_rf = accuracy_score(y_test_encoded, y_pred_rf)\n",
        "accuracy_xgb = accuracy_score(y_test_encoded, y_pred_xgb)\n",
        "accuracy_svm = accuracy_score(y_test_encoded, y_pred_svm)\n",
        "\n",
        "# Calculate F1-score and precision for each model\n",
        "f1_rf = f1_score(y_test_encoded, y_pred_rf, average='weighted')\n",
        "f1_xgb = f1_score(y_test_encoded, y_pred_xgb, average='weighted')\n",
        "f1_svm = f1_score(y_test_encoded, y_pred_svm, average='weighted')\n",
        "\n",
        "precision_rf = precision_score(y_test_encoded, y_pred_rf, average='weighted')\n",
        "precision_xgb = precision_score(y_test_encoded, y_pred_xgb, average='weighted')\n",
        "precision_svm = precision_score(y_test_encoded, y_pred_svm, average='weighted')\n",
        "\n",
        "# Cross-validation\n",
        "cv = 5\n",
        "kf = KFold(n_splits=cv, shuffle=True, random_state=42)\n",
        "skf = StratifiedKFold(n_splits=cv, shuffle=True, random_state=42)\n",
        "loo = LeaveOneOut()\n",
        "sss = StratifiedShuffleSplit(n_splits=cv, test_size=0.2, random_state=42)\n",
        "\n",
        "# Perform cross-validation using K-Fold\n",
        "cv_scores_rf = cross_val_score(model_rf, X, y_encoded, cv=kf)\n",
        "cv_scores_xgb = cross_val_score(model_xgb, X, y_encoded, cv=kf)\n",
        "cv_scores_svm = cross_val_score(model_svm, X, y_encoded, cv=kf)\n",
        "\n",
        "# Mean accuracy for K-Fold\n",
        "mean_accuracy_rf = cv_scores_rf.mean()\n",
        "mean_accuracy_xgb = cv_scores_xgb.mean()\n",
        "mean_accuracy_svm = cv_scores_svm.mean()\n",
        "\n",
        "# Perform cross-validation using Stratified K-Fold\n",
        "cv_scores_rf_skf = cross_val_score(model_rf, X, y_encoded, cv=skf)\n",
        "cv_scores_xgb_skf = cross_val_score(model_xgb, X, y_encoded, cv=skf)\n",
        "cv_scores_svm_skf = cross_val_score(model_svm, X, y_encoded, cv=skf)\n",
        "\n",
        "# Mean accuracy for Stratified K-Fold\n",
        "mean_accuracy_rf_skf = cv_scores_rf_skf.mean()\n",
        "mean_accuracy_xgb_skf = cv_scores_xgb_skf.mean()\n",
        "mean_accuracy_svm_skf = cv_scores_svm_skf.mean()\n",
        "\n",
        "# Perform cross-validation using Leave-One-Out\n",
        "cv_scores_rf_loo = cross_val_score(model_rf, X, y_encoded, cv=loo)\n",
        "cv_scores_xgb_loo = cross_val_score(model_xgb, X, y_encoded, cv=loo)\n",
        "cv_scores_svm_loo = cross_val_score(model_svm, X, y_encoded, cv=loo)\n",
        "\n",
        "# Mean accuracy for Leave-One-Out\n",
        "mean_accuracy_rf_loo = cv_scores_rf_loo.mean()\n",
        "mean_accuracy_xgb_loo = cv_scores_xgb_loo.mean()\n",
        "mean_accuracy_svm_loo = cv_scores_svm_loo.mean()\n",
        "\n",
        "# Perform cross-validation using Stratified Shuffle Split\n",
        "cv_scores_rf_sss = cross_val_score(model_rf, X, y_encoded, cv=sss)\n",
        "cv_scores_xgb_sss = cross_val_score(model_xgb, X, y_encoded, cv=sss)\n",
        "cv_scores_svm_sss = cross_val_score(model_svm, X, y_encoded, cv=sss)\n",
        "\n",
        "# Mean accuracy for Stratified Shuffle Split\n",
        "mean_accuracy_rf_sss = cv_scores_rf_sss.mean()\n",
        "mean_accuracy_xgb_sss = cv_scores_xgb_sss.mean()\n",
        "mean_accuracy_svm_sss = cv_scores_svm_sss.mean()\n",
        "\n",
        "# Define plot function for confusion matrix\n",
        "def plot_confusion_matrix(cm, classes, title='Confusion Matrix', cmap=plt.cm.Blues):\n",
        "    plt.imshow(cm, interpolation='nearest', cmap=cmap)\n",
        "    plt.title(title)\n",
        "    plt.colorbar()\n",
        "    tick_marks = np.arange(len(classes))\n",
        "    plt.xticks(tick_marks, classes, rotation=45)\n",
        "    plt.yticks(tick_marks, classes)\n",
        "    plt.tight_layout()\n",
        "    plt.ylabel('True label')\n",
        "    plt.xlabel('Predicted label')\n",
        "\n",
        "# Plot confusion matrix for Random Forest\n",
        "plt.figure(figsize=(8, 6))\n",
        "cm_rf = confusion_matrix(y_test_encoded, y_pred_rf)\n",
        "plot_confusion_matrix(cm_rf, classes=label_encoder.classes_, title='Confusion Matrix - Random Forest')\n",
        "\n",
        "# Plot confusion matrix for XGBoost\n",
        "plt.figure(figsize=(8, 6))\n",
        "cm_xgb = confusion_matrix(y_test_encoded, y_pred_xgb)\n",
        "plot_confusion_matrix(cm_xgb, classes=label_encoder.classes_, title='Confusion Matrix - XGBoost')\n",
        "\n",
        "# Plot confusion matrix for SVM\n",
        "plt.figure(figsize=(8, 6))\n",
        "cm_svm = confusion_matrix(y_test_encoded, y_pred_svm)\n",
        "plot_confusion_matrix(cm_svm, classes=label_encoder.classes_, title='Confusion Matrix - SVM')\n",
        "\n",
        "# Display all plots\n",
        "plt.show()"
      ],
      "metadata": {
        "id": "5nN-n7s9rVwH"
      },
      "execution_count": null,
      "outputs": []
    }
  ]
}